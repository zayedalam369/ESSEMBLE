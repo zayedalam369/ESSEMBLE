{
  "nbformat": 4,
  "nbformat_minor": 0,
  "metadata": {
    "colab": {
      "provenance": []
    },
    "kernelspec": {
      "name": "python3",
      "display_name": "Python 3"
    },
    "language_info": {
      "name": "python"
    }
  },
  "cells": [
    {
      "cell_type": "markdown",
      "source": [
        "#Ensemble Learning"
      ],
      "metadata": {
        "id": "9fr1TCIvKj7s"
      }
    },
    {
      "cell_type": "markdown",
      "source": [
        "Q1"
      ],
      "metadata": {
        "id": "mEs3Q1deKs6z"
      }
    },
    {
      "cell_type": "markdown",
      "source": [
        "-->Yes, Bagging (Bootstrap Aggregating) can absolutely be used for regression problems, not just classification.\n",
        "\n",
        "How Bagging Works in Regression:\n",
        "Bagging involves training multiple models (typically decision trees) on different bootstrapped subsets of the training data and then aggregating their predictions.\n",
        "\n",
        "For regression, the aggregation is usually done by averaging the predictions of the individual models.\n",
        "\n",
        "This reduces variance and helps to avoid overfitting, especially with high-variance models like decision trees.\n",
        "\n",
        "Common Example:\n",
        "Bagging Regressor using Decision Trees is a popular choice.\n",
        "\n",
        "In scikit-learn, it's implemented as:\n",
        "\n",
        "python\n",
        "Copy\n",
        "Edit\n",
        "from sklearn.ensemble import BaggingRegressor\n",
        "from sklearn.tree import DecisionTreeRegressor\n",
        "\n",
        "model = BaggingRegressor(base_estimator=DecisionTreeRegressor(), n_estimators=100)\n",
        "model.fit(X_train, y_train)\n",
        "predictions = model.predict(X_test)\n",
        "Benefits of Using Bagging for Regression:\n",
        "Reduces overfitting by combining multiple models.\n",
        "\n",
        "Improves generalization performance.\n",
        "\n",
        "Works well with unstable models (models that change significantly with small changes in training data)."
      ],
      "metadata": {
        "id": "VOqOQ6rsKs4C"
      }
    },
    {
      "cell_type": "markdown",
      "source": [
        "Q2"
      ],
      "metadata": {
        "id": "Sl12MJfoKs1T"
      }
    },
    {
      "cell_type": "markdown",
      "source": [
        "-->The difference between multiple model training and single model training lies in how many machine learning models are being trained, how they're used, and the purpose they serve. Here’s a clear comparison:\n",
        "\n",
        "✅ Single Model Training\n",
        "Definition: Training one model on the entire dataset.\n",
        "\n",
        "Use case: When the data distribution is consistent, and a single model is sufficient to capture the underlying patterns.\n",
        "\n",
        "Advantages:\n",
        "\n",
        "Simpler to implement and manage.\n",
        "\n",
        "Requires less computational resources.\n",
        "\n",
        "Easier to debug and interpret.\n",
        "\n",
        "Disadvantages:\n",
        "\n",
        "May not perform well if data is highly diverse or contains multiple subgroups.\n",
        "\n",
        "Struggles with tasks requiring specialization (e.g., different customer segments, domains, or tasks).\n",
        "\n",
        "Example: Training one sentiment analysis model for all product reviews regardless of product category.\n",
        "\n",
        "✅ Multiple Model Training\n",
        "Definition: Training multiple models, either:\n",
        "\n",
        "On different subsets of data (e.g., per user, region, or task), or\n",
        "\n",
        "For different tasks (e.g., multitask learning), or\n",
        "\n",
        "As part of an ensemble (e.g., random forest, boosting).\n",
        "\n",
        "Use cases:\n",
        "\n",
        "Complex problems where different models are needed for different data segments.\n",
        "\n",
        "Scenarios requiring high accuracy, specialization, or robustness.\n",
        "\n",
        "When combining models increases predictive power (ensemble learning).\n",
        "\n",
        "Advantages:\n",
        "\n",
        "Greater flexibility and adaptability.\n",
        "\n",
        "Can handle heterogeneous data better.\n",
        "\n",
        "Often improves accuracy and robustness.\n",
        "\n",
        "Disadvantages:\n",
        "\n",
        "Increased computational cost.\n",
        "\n",
        "More complex to implement, tune, and maintain.\n",
        "\n",
        "Harder to interpret and debug.\n",
        "\n",
        "Examples:\n",
        "\n",
        "Training a separate fraud detection model per country due to regulatory differences.\n",
        "\n",
        "Ensemble of models (e.g., stacking, bagging) to improve generalization."
      ],
      "metadata": {
        "id": "TeWm49dWKsyb"
      }
    },
    {
      "cell_type": "markdown",
      "source": [
        "Q3"
      ],
      "metadata": {
        "id": "Nf06HStHKsvj"
      }
    },
    {
      "cell_type": "markdown",
      "source": [
        "-->In the context of Random Forests, feature randomness refers to the deliberate introduction of randomness in the selection of features used to split nodes during the construction of individual decision trees within the forest. This is a key technique used to increase model diversity and reduce overfitting.\n",
        "\n",
        "Here's how feature randomness works:\n",
        "In a standard decision tree, when a node is split, the algorithm looks through all features and selects the one that provides the best split (e.g., based on Gini impurity or information gain).\n",
        "\n",
        "In a Random Forest, at each split in the decision tree:\n",
        "\n",
        "A random subset of features is selected (instead of using all features).\n",
        "\n",
        "The best split is then chosen only among this subset.\n",
        "\n",
        "Example:\n",
        "Suppose your dataset has 100 features.\n",
        "\n",
        "In a traditional decision tree, each split could consider all 100 features.\n",
        "\n",
        "In a Random Forest, each split might only consider, say, √100 = 10 randomly selected features (this is the default for classification tasks in many implementations).\n",
        "\n",
        "This random selection is repeated independently at each node and for each tree.\n",
        "\n",
        "Why introduce feature randomness?\n",
        "Reduces correlation between trees:\n",
        "\n",
        "If trees are too similar (e.g., all choosing the same dominant features), the ensemble won’t gain much from averaging.\n",
        "\n",
        "Random feature selection forces trees to learn different patterns.\n",
        "\n",
        "Improves generalization:\n",
        "\n",
        "Because the trees are less correlated, averaging their predictions tends to reduce variance without a corresponding increase in bias.\n",
        "\n",
        "Prevents overfitting:\n",
        "\n",
        "Especially helpful in high-dimensional datasets, where some features may dominate the splits if not controlled.\n",
        "\n"
      ],
      "metadata": {
        "id": "53HDG5uyKssz"
      }
    },
    {
      "cell_type": "markdown",
      "source": [
        "Q4"
      ],
      "metadata": {
        "id": "vp23Tn11Ksp2"
      }
    },
    {
      "cell_type": "markdown",
      "source": [
        "-->The Out-of-Bag (OOB) score is a method for evaluating the performance of ensemble models, particularly Random Forests, without the need for a separate validation dataset or cross-validation.\n",
        "\n",
        "🔍 What It Means:\n",
        "When a Random Forest builds each tree, it does so using a bootstrap sample — a random sample taken with replacement from the training data. On average, about 63% of the training data is used in each bootstrap sample, meaning about 37% is left out for that particular tree. These unused samples are called the Out-of-Bag (OOB) samples.\n",
        "\n",
        "🧠 How OOB Score Works:\n",
        "Each tree is trained on a bootstrap sample.\n",
        "\n",
        "The model is then tested on the OOB samples (the data not used to train that particular tree).\n",
        "\n",
        "This is repeated across all trees in the forest.\n",
        "\n",
        "For each training data point, predictions are made using only the trees for which that point was OOB.\n",
        "\n",
        "The overall OOB score is the accuracy (or another metric, like mean squared error) of these predictions compared to the true labels."
      ],
      "metadata": {
        "id": "94PQZkm5Ksmz"
      }
    },
    {
      "cell_type": "markdown",
      "source": [
        "Q5"
      ],
      "metadata": {
        "id": "KEBTuqKsKsja"
      }
    },
    {
      "cell_type": "markdown",
      "source": [
        "-->Measuring feature importance in a Random Forest model is a key step in interpreting the model. There are a few widely used methods, each with its own pros and cons:\n",
        "\n",
        "🔹 1. Mean Decrease in Impurity (MDI) — Default method in scikit-learn\n",
        "Also known as Gini importance for classification or variance reduction for regression.\n",
        "\n",
        "During training, each decision tree splits the data using features that reduce impurity (e.g., MSE in regression).\n",
        "\n",
        "The total reduction in impurity from each feature is averaged over all trees in the forest.\n",
        "\n",
        "In scikit-learn:\n",
        "python\n",
        "Copy\n",
        "Edit\n",
        "from sklearn.ensemble import RandomForestRegressor\n",
        "\n",
        "model = RandomForestRegressor()\n",
        "model.fit(X_train, y_train)\n",
        "\n",
        "importances = model.feature_importances_\n",
        "Pros:\n",
        "\n",
        "Fast and built-in.\n",
        "\n",
        "Cons:\n",
        "\n",
        "Can be biased toward features with more categories or continuous features.\n",
        "\n",
        "🔹 2. Permutation Importance — Model-agnostic and more reliable\n",
        "Shuffle one feature's values and measure the drop in model performance (e.g., increase in MSE).\n",
        "\n",
        "Features that cause a big drop in performance are more important.\n",
        "\n",
        "In scikit-learn:\n",
        "python\n",
        "Copy\n",
        "Edit\n",
        "from sklearn.inspection import permutation_importance\n",
        "\n",
        "result = permutation_importance(model, X_test, y_test, n_repeats=10, random_state=42)\n",
        "importances = result.importances_mean\n",
        "Pros:\n",
        "\n",
        "More accurate reflection of feature contribution.\n",
        "\n",
        "Works for any model (not just Random Forests).\n",
        "\n",
        "Cons:\n",
        "\n",
        "Slower (needs retraining or multiple evaluations).\n",
        "\n",
        "Can be sensitive to feature correlation.\n",
        "\n",
        "🔹 3. SHAP (SHapley Additive exPlanations) — Best for interpretation\n",
        "Based on cooperative game theory.\n",
        "\n",
        "Computes contribution of each feature to each individual prediction.\n",
        "\n",
        "More granular and interpretable than the other methods.\n",
        "\n",
        "Using SHAP:\n",
        "python\n",
        "Copy\n",
        "Edit\n",
        "import shap\n",
        "\n",
        "explainer = shap.Explainer(model, X_train)\n",
        "shap_values = explainer(X_test)\n",
        "\n",
        "shap.plots.beeswarm(shap_values)\n",
        "Pros:\n",
        "\n",
        "Detailed, interpretable, and works well with correlated features.\n",
        "\n",
        "Shows both direction and magnitude of importance.\n",
        "\n",
        "Cons:\n",
        "\n",
        "Computationally expensive."
      ],
      "metadata": {
        "id": "PiyGbv5DKsgj"
      }
    },
    {
      "cell_type": "markdown",
      "source": [
        "Q6"
      ],
      "metadata": {
        "id": "CXa3xLYEKsda"
      }
    },
    {
      "cell_type": "markdown",
      "source": [
        "-->✅ Working Principle of a Bagging Classifier\n",
        "Bagging, short for Bootstrap Aggregating, is an ensemble learning technique designed to improve the stability and accuracy of machine learning algorithms—especially high-variance models like decision trees. A Bagging Classifier combines the predictions of multiple base classifiers to produce a final prediction.\n",
        "\n",
        "🔍 Step-by-Step Working of Bagging Classifier\n",
        "Bootstrapping (Random Sampling with Replacement)\n",
        "From the original training dataset, multiple bootstrap samples are created.\n",
        "\n",
        "Each sample is generated by randomly selecting data points with replacement.\n",
        "\n",
        "These samples are often the same size as the original dataset, but each one is different due to randomness.\n",
        "\n",
        "Training Multiple Base Models\n",
        "A base model (usually a weak learner like a decision tree) is trained on each bootstrap sample.\n",
        "\n",
        "Since each model sees a different subset of the data, they learn slightly different patterns.\n",
        "\n",
        "Prediction Aggregation\n",
        "For classification tasks:\n",
        "\n",
        "Each model gives a predicted class.\n",
        "\n",
        "The final prediction is made by majority voting (i.e., the class that most models predicted).\n",
        "\n",
        "For regression tasks:\n",
        "\n",
        "The final prediction is the average of all model outputs.\n",
        "\n",
        "🧠 Why Bagging Works\n",
        "Reduces Variance: By averaging multiple models, the ensemble reduces the variance of individual models.\n",
        "\n",
        "Avoids Overfitting: Especially useful for models prone to overfitting (e.g., deep decision trees).\n",
        "\n",
        "Improves Generalization: Diverse predictions from varied training sets increase robustness.\n",
        "\n",
        "📌 Example: Bagging with Decision Trees (Random Forest is an extension)\n",
        "Let’s say you have a dataset of 1000 samples and use a Bagging Classifier with 10 decision trees:\n",
        "\n",
        "10 bootstrap datasets are generated.\n",
        "\n",
        "10 decision trees are trained on these datasets.\n",
        "\n",
        "Each tree makes a prediction.\n",
        "\n",
        "The final prediction is the most frequent class among the 10 predictions"
      ],
      "metadata": {
        "id": "A1oI9Xc7Ksaj"
      }
    },
    {
      "cell_type": "markdown",
      "source": [
        "Q7"
      ],
      "metadata": {
        "id": "mDjtJr5gKsXT"
      }
    },
    {
      "cell_type": "markdown",
      "source": [
        "-->To evaluate a Bagging Classifier’s performance, you use many of the same techniques as with any supervised classification model. Here's a structured approach:\n",
        "\n",
        "1. Use Train-Test Split or Cross-Validation\n",
        "Train-Test Split: Split the dataset into training and testing sets (e.g., 80/20).\n",
        "\n",
        "Cross-Validation: Use k-fold cross-validation (e.g., 5-fold or 10-fold) to get a more robust estimate of performance, especially on smaller datasets.\n",
        "\n",
        "2. Performance Metrics\n",
        "Depending on the type of classification problem (binary, multiclass, imbalanced), use relevant metrics:\n",
        "\n",
        "🔹 For General Classification:\n",
        "Accuracy: Proportion of correct predictions.\n",
        "\n",
        "Precision: TP / (TP + FP) — how many predicted positives were actual positives.\n",
        "\n",
        "Recall (Sensitivity): TP / (TP + FN) — how many actual positives were correctly predicted.\n",
        "\n",
        "F1 Score: Harmonic mean of precision and recall.\n",
        "\n",
        "Confusion Matrix: Visual summary of prediction performance.\n",
        "\n",
        "🔹 For Imbalanced Datasets:\n",
        "ROC Curve and AUC (Area Under Curve): Measures trade-off between true positive rate and false positive rate.\n",
        "\n",
        "Precision-Recall Curve and AUC: Useful when positive class is rare.\n",
        "\n",
        "Balanced Accuracy: Average of recall obtained on each class.\n",
        "\n",
        "3. Out-of-Bag (OOB) Error Estimate (Specific to Bagging)\n",
        "One unique feature of Bagging (e.g., in Random Forests or BaggingClassifier from sklearn) is Out-of-Bag evaluation:\n",
        "\n",
        "Because each base model is trained on a bootstrap sample, some data points are not included in that sample.\n",
        "\n",
        "The OOB samples are used as a validation set for that tree.\n",
        "\n",
        "By aggregating predictions on these OOB samples across the ensemble, you get an unbiased estimate of the model's generalization error without needing a separate validation set.\n",
        "\n",
        "python\n",
        "Copy\n",
        "Edit\n",
        "from sklearn.ensemble import BaggingClassifier\n",
        "from sklearn.metrics import accuracy_score\n",
        "\n",
        "# Create and train the Bagging Classifier\n",
        "clf = BaggingClassifier(oob_score=True)\n",
        "clf.fit(X_train, y_train)\n",
        "\n",
        "# OOB score\n",
        "print(\"OOB Score:\", clf.oob_score_)\n",
        "\n",
        "# Test set accuracy\n",
        "y_pred = clf.predict(X_test)\n",
        "print(\"Test Accuracy:\", accuracy_score(y_test, y_pred))\n",
        "4. Learning Curves and Error Analysis\n",
        "Plot learning curves to observe training vs validation performance over increasing data size.\n",
        "\n",
        "Analyze misclassified examples to see if certain classes or patterns are consistently confused.\n",
        "\n"
      ],
      "metadata": {
        "id": "PHwcPu7PKsUT"
      }
    },
    {
      "cell_type": "markdown",
      "source": [
        "Q8"
      ],
      "metadata": {
        "id": "OwvHq6TlKsRK"
      }
    },
    {
      "cell_type": "markdown",
      "source": [
        "-->✅ How a Bagging Regressor Works:\n",
        "Bagging (short for Bootstrap Aggregating) is an ensemble learning method designed to improve the stability and accuracy of machine learning algorithms, particularly those that have high variance (like decision trees).\n",
        "\n",
        "🧠 Core Idea:\n",
        "It builds multiple versions of a model (usually the same base regressor), trains them on different subsets of the training data, and averages their predictions to reduce overfitting and variance.\n",
        "\n",
        "⚙️ Step-by-Step Process:\n",
        "Bootstrap Sampling:\n",
        "\n",
        "Create multiple subsets of the training dataset by sampling with replacement.\n",
        "\n",
        "Each subset is called a bootstrap sample and is the same size as the original dataset (but includes duplicates).\n",
        "\n",
        "Train Base Regressors:\n",
        "\n",
        "For each bootstrap sample, train a separate base regressor (e.g., a decision tree).\n",
        "\n",
        "These models are trained independently and in parallel.\n",
        "\n",
        "Aggregate Predictions:\n",
        "\n",
        "When predicting, each regressor makes a prediction.\n",
        "\n",
        "The final prediction is the average of all individual predictions.\n",
        "\n",
        "🧪 Example in Python (Using Scikit-learn):\n",
        "python\n",
        "Copy\n",
        "Edit\n",
        "from sklearn.ensemble import BaggingRegressor\n",
        "from sklearn.tree import DecisionTreeRegressor\n",
        "from sklearn.datasets import make_regression\n",
        "from sklearn.model_selection import train_test_split\n",
        "\n",
        "# Generate synthetic regression data\n",
        "X, y = make_regression(n_samples=100, n_features=10, noise=0.1)\n",
        "X_train, X_test, y_train, y_test = train_test_split(X, y, test_size=0.2)\n",
        "\n",
        "# Create Bagging Regressor with Decision Trees as base models\n",
        "bagging_model = BaggingRegressor(base_estimator=DecisionTreeRegressor(),\n",
        "                                  n_estimators=10,\n",
        "                                  random_state=42)\n",
        "\n",
        "# Train the model\n",
        "bagging_model.fit(X_train, y_train)\n",
        "\n",
        "# Predict\n",
        "y_pred = bagging_model.predict(X_test)\n",
        "✅ Benefits of Bagging Regressor:\n",
        "Reduces variance (helps avoid overfitting).\n",
        "\n",
        "Works well with unstable models like decision trees.\n",
        "\n",
        "Parallelizable, since each model is trained independently."
      ],
      "metadata": {
        "id": "ZK3WpXgjKsOT"
      }
    },
    {
      "cell_type": "markdown",
      "source": [
        "Q9"
      ],
      "metadata": {
        "id": "frfS36UUKsLL"
      }
    },
    {
      "cell_type": "markdown",
      "source": [
        "-->The main advantage of ensemble techniques is that they combine multiple models to produce a more accurate, stable, and robust prediction than any single model could achieve on its own.\n",
        "\n",
        "✅ Key Benefits of Ensemble Techniques:\n",
        "Improved Accuracy\n",
        "\n",
        "Combining models typically leads to higher predictive performance, especially when the individual models have high variance or bias.\n",
        "\n",
        "Examples: Random Forests (reduce variance), Boosting methods like XGBoost (reduce bias).\n",
        "\n",
        "Reduced Overfitting\n",
        "\n",
        "Especially with methods like Bagging (e.g., Random Forest), which average out noisy fluctuations in individual learners.\n",
        "\n",
        "Increased Robustness\n",
        "\n",
        "Ensemble methods are less sensitive to outliers, noisy data, or overly complex datasets because they rely on consensus rather than a single hypothesis.\n",
        "\n",
        "Better Generalization\n",
        "\n",
        "Because they aggregate over different models, ensembles tend to generalize better to unseen data.\n",
        "\n",
        "Flexibility\n",
        "\n",
        "Ensemble methods can combine different types of models (e.g., stacking can mix trees, SVMs, neural nets), allowing you to leverage the strengths of each.\n",
        "\n",
        "🧠 Analogy:\n",
        "Think of ensemble methods like a jury decision: while one juror might make a mistake, the majority vote of many jurors usually leads to a more reliable decision."
      ],
      "metadata": {
        "id": "egJrscPQKsIK"
      }
    },
    {
      "cell_type": "markdown",
      "source": [
        "Q10"
      ],
      "metadata": {
        "id": "dO5SM6rAKsFC"
      }
    },
    {
      "cell_type": "markdown",
      "source": [
        "-->The main challenge of ensemble methods is the increased complexity, which can affect several aspects of the machine learning pipeline:\n",
        "\n",
        "🔧 1. Computational Complexity\n",
        "Training Time: Training multiple models (sometimes hundreds or thousands) requires significantly more time and resources compared to a single model.\n",
        "\n",
        "Prediction Time: Ensemble methods often require all base models to make predictions, increasing inference time—problematic in real-time systems.\n",
        "\n",
        "🧠 2. Interpretability\n",
        "Ensembles (especially ones like Random Forests or Gradient Boosting) are often black boxes.\n",
        "\n",
        "Hard to understand how decisions are made because the final output is an aggregate of many model predictions.\n",
        "\n",
        "⚖️ 3. Overfitting Risk (in some cases)\n",
        "Although many ensemble methods reduce overfitting (like Bagging), others (like Boosting) can overfit if not properly regularized.\n",
        "\n",
        "Improper tuning (e.g., too many base learners or insufficient regularization) can worsen generalization.\n",
        "\n",
        "🛠️ 4. Implementation and Maintenance\n",
        "More difficult to maintain and debug.\n",
        "\n",
        "Requires more careful model management (e.g., saving/loading multiple models).\n",
        "\n",
        "In production, ensemble models may demand more sophisticated infrastructure.\n",
        "\n",
        "🧪 5. Diminishing Returns\n",
        "Simply adding more models to the ensemble doesn't always improve performance.\n",
        "\n",
        "After a certain point, improvements plateau, making additional complexity unjustified."
      ],
      "metadata": {
        "id": "qRaXmYYBKsCL"
      }
    },
    {
      "cell_type": "markdown",
      "source": [
        "Q11"
      ],
      "metadata": {
        "id": "_9kFwFF9Kr-S"
      }
    },
    {
      "cell_type": "markdown",
      "source": [
        "-->The key idea behind ensemble techniques in machine learning is to combine multiple models (often called base learners or weak learners) to improve overall performance, typically by enhancing accuracy, robustness, and generalization. The fundamental premise is that aggregating the predictions of several models can lead to a better-performing model than any single one.\n",
        "\n",
        "Why Use Ensembles?\n",
        "Bias-Variance Tradeoff: Single models often suffer from either high bias (underfitting) or high variance (overfitting). Ensemble methods can help strike a balance by reducing both bias and variance:\n",
        "\n",
        "Reducing bias: Combining weak models (which may have high bias individually) can create a stronger learner with lower bias.\n",
        "\n",
        "Reducing variance: Combining many models with high variance leads to more stable and consistent predictions.\n",
        "\n",
        "Diversity of Models: Each base model in an ensemble may make different errors, but by combining them, these errors can cancel each other out, leading to improved predictions. The key to a successful ensemble is ensuring that the base models are diverse, i.e., they make different types of errors.\n",
        "\n",
        "Types of Ensemble Methods\n",
        "Bagging (Bootstrap Aggregating):\n",
        "\n",
        "Idea: Train multiple copies of the same model on different subsets of the data (drawn with replacement, i.e., bootstrapped samples).\n",
        "\n",
        "Goal: Reduce variance and improve stability by averaging predictions.\n",
        "\n",
        "Example: Random Forests are an example of bagging, where multiple decision trees are trained on different subsets of the data.\n",
        "\n",
        "Boosting:\n",
        "\n",
        "Idea: Sequentially train models where each new model tries to correct the errors of the previous ones. Weights are assigned to misclassified examples, so the next model focuses more on them.\n",
        "\n",
        "Goal: Reduce bias and improve model accuracy by giving more importance to harder-to-predict instances.\n",
        "\n",
        "Example: AdaBoost, Gradient Boosting, and XGBoost are popular boosting algorithms.\n",
        "\n",
        "Stacking:\n",
        "\n",
        "Idea: Train multiple models (base learners) on the data, then use another model (a meta-model) to combine their predictions. The meta-model learns how to best combine the base models' predictions.\n",
        "\n",
        "Goal: Leverage the strengths of different models to improve the final prediction.\n",
        "\n",
        "Example: A typical stacking model could use decision trees, logistic regression, and k-nearest neighbors as base learners, and a logistic regression as the meta-model.\n",
        "\n",
        "Voting:\n",
        "\n",
        "Idea: Combine predictions from multiple models by voting. In classification, the majority vote is taken as the final prediction; in regression, the average is used.\n",
        "\n",
        "Goal: Create a simple yet effective ensemble, often used when the base models are relatively strong on their own.\n",
        "\n",
        "Example: Hard voting (majority vote) or soft voting (probabilistic average).\n",
        "\n",
        "Benefits of Ensemble Methods\n",
        "Improved Accuracy: Combining multiple models often results in a more accurate model than any individual model.\n",
        "\n",
        "Reduced Overfitting (Variance): By averaging multiple models, ensemble techniques help to smooth out fluctuations and reduce overfitting.\n",
        "\n",
        "Increased Robustness: Ensembles tend to be more robust to noise and outliers, as the aggregate predictions are less sensitive to any single data point.\n",
        "\n",
        "Better Generalization: Ensembles usually generalize better to unseen data because they are less likely to make systematic errors across all models.\n",
        "\n"
      ],
      "metadata": {
        "id": "LlQKK6PTKr5r"
      }
    },
    {
      "cell_type": "markdown",
      "source": [
        "Q12"
      ],
      "metadata": {
        "id": "u7PexCfmKr2C"
      }
    },
    {
      "cell_type": "markdown",
      "source": [
        "-->A Random Forest Classifier is an ensemble machine learning algorithm that combines multiple decision trees to improve the accuracy and stability of the model. It's one of the most popular and powerful algorithms, particularly used for classification problems. The key idea behind Random Forest is to combine the predictions of many decision trees to reduce overfitting and increase model performance.\n",
        "\n",
        "🧠 How It Works:\n",
        "Bootstrap Sampling:\n",
        "\n",
        "Random Forest starts by generating multiple bootstrap samples (random subsets of the training data, sampled with replacement). Each subset is used to train a separate decision tree.\n",
        "\n",
        "Random Feature Selection:\n",
        "\n",
        "When building each tree, at each split, the algorithm randomly selects a subset of features (rather than considering all features) to determine the best split. This randomness helps ensure that the trees in the forest are not highly correlated, which improves model diversity.\n",
        "\n",
        "Train Multiple Decision Trees:\n",
        "\n",
        "Each tree is trained independently on its corresponding bootstrap sample using the random feature selection process.\n",
        "\n",
        "Vote for Prediction:\n",
        "\n",
        "For classification problems, when making a prediction, each tree in the forest votes on the class label, and the class with the most votes is the final predicted class.\n",
        "\n",
        "In other words, the Random Forest uses a majority voting system to determine the final class.\n",
        "\n",
        "Key Features of Random Forest Classifier:\n",
        "Ensemble Learning: Combines the predictions of many decision trees to reduce variance and overfitting.\n",
        "\n",
        "Randomization: Introduces randomness in two ways:\n",
        "\n",
        "Bootstrap sampling: Random subsets of data.\n",
        "\n",
        "Feature selection: Random subset of features at each split.\n",
        "\n",
        "Out-of-Bag (OOB) Error: Random Forest can use the data points not selected in the bootstrap sample for each tree (the \"out-of-bag\" samples) to estimate the model's error rate, so you don't need a separate validation set.\n",
        "\n",
        "✅ Advantages of Random Forest Classifier:\n",
        "Robustness: Less prone to overfitting compared to a single decision tree.\n",
        "\n",
        "Handles Missing Data: Can handle missing values in the dataset.\n",
        "\n",
        "Feature Importance: It can rank features based on their importance for making predictions.\n",
        "\n",
        "Good for High-Dimensional Data: Works well for datasets with many features.\n",
        "\n",
        "Parallelizable: Trees are built independently, making it easier to parallelize and scale.\n",
        "\n",
        "⚠️ Disadvantages of Random Forest Classifier:\n",
        "Complexity: Random Forest models can become quite large and computationally expensive with a large number of trees and features.\n",
        "\n",
        "Interpretability: While decision trees are interpretable, the ensemble of many trees makes the overall model more difficult to explain.\n",
        "\n",
        "Slow Predictions: Since predictions require many trees, it can be slower than other models like logistic regression or support vector machines, especially for large datasets.\n",
        "\n",
        "🧪 Example in Python (Using Scikit-learn):\n",
        "python\n",
        "Copy\n",
        "Edit\n",
        "from sklearn.ensemble import RandomForestClassifier\n",
        "from sklearn.datasets import load_iris\n",
        "from sklearn.model_selection import train_test_split\n",
        "from sklearn.metrics import accuracy_score\n",
        "\n",
        "# Load a dataset (Iris dataset in this case)\n",
        "data = load_iris()\n",
        "X = data.data\n",
        "y = data.target\n",
        "\n",
        "# Split the data into training and testing sets\n",
        "X_train, X_test, y_train, y_test = train_test_split(X, y, test_size=0.2, random_state=42)\n",
        "\n",
        "# Create a Random Forest Classifier model\n",
        "rf_classifier = RandomForestClassifier(n_estimators=100, random_state=42)\n",
        "\n",
        "# Train the model\n",
        "rf_classifier.fit(X_train, y_train)\n",
        "\n",
        "# Make predictions\n",
        "y_pred = rf_classifier.predict(X_test)\n",
        "\n",
        "# Evaluate the model\n",
        "accuracy = accuracy_score(y_test, y_pred)\n",
        "print(f\"Accuracy: {accuracy:.4f}\")\n",
        "In this example:\n",
        "\n",
        "We train a Random Forest Classifier on the Iris dataset.\n",
        "\n",
        "We use 100 trees (n_estimators=100) and evaluate the model's accuracy on the test set."
      ],
      "metadata": {
        "id": "hPwLuXJZKrzL"
      }
    },
    {
      "cell_type": "markdown",
      "source": [
        "Q13"
      ],
      "metadata": {
        "id": "uPzhov2FKrwD"
      }
    },
    {
      "cell_type": "markdown",
      "source": [
        "-->Ensemble techniques can be broadly categorized into three main types, each using a different approach to combine multiple models. Here’s a breakdown of the main types of ensemble methods:\n",
        "\n",
        "1. Bagging (Bootstrap Aggregating)\n",
        "Goal: Reduce variance and avoid overfitting by combining predictions from multiple models trained on different subsets of data.\n",
        "\n",
        "How it works:\n",
        "\n",
        "Multiple models (typically same type of models, like decision trees) are trained on different bootstrapped subsets of the training data.\n",
        "\n",
        "For classification, the final prediction is typically made by voting (majority vote).\n",
        "\n",
        "For regression, the prediction is usually averaged.\n",
        "\n",
        "Examples:\n",
        "\n",
        "Random Forest: A classic bagging method where many decision trees are trained and their results are averaged.\n",
        "\n",
        "Advantages:\n",
        "\n",
        "Reduces overfitting (especially with high-variance models like decision trees).\n",
        "\n",
        "Parallelizable, making it fast to train.\n",
        "\n",
        "2. Boosting\n",
        "Goal: Reduce bias by focusing on correcting errors made by previous models in the sequence.\n",
        "\n",
        "How it works:\n",
        "\n",
        "Models are trained sequentially. Each new model tries to correct the mistakes of the previous one by giving more weight to the misclassified examples from earlier models.\n",
        "\n",
        "The predictions are then combined in a weighted manner to produce the final prediction.\n",
        "\n",
        "Examples:\n",
        "\n",
        "AdaBoost: Each model in the sequence corrects the errors of the previous one.\n",
        "\n",
        "Gradient Boosting (e.g., XGBoost, LightGBM): Focuses on the gradient of the loss function, making the model more accurate over time.\n",
        "\n",
        "Advantages:\n",
        "\n",
        "Reduces bias (great for weak models like shallow trees).\n",
        "\n",
        "Often leads to very high accuracy.\n",
        "\n",
        "Can handle both classification and regression problems.\n",
        "\n",
        "3. Stacking (Stacked Generalization)\n",
        "Goal: Combine different models (often of different types) to improve overall performance by leveraging their individual strengths.\n",
        "\n",
        "How it works:\n",
        "\n",
        "A meta-model is trained to learn how to best combine the predictions of several base models. Each base model is trained on the entire dataset, and their predictions are used as input features to the meta-model.\n",
        "\n",
        "The final prediction comes from the meta-model, which tries to learn the optimal combination of base model predictions.\n",
        "\n",
        "Examples:\n",
        "\n",
        "Using a mix of models like decision trees, SVMs, and logistic regression, and training a meta-model to combine their outputs.\n",
        "\n",
        "Advantages:\n",
        "\n",
        "Very flexible, as it can combine any type of models.\n",
        "\n",
        "Often leads to improved performance compared to any individual model.\n",
        "\n",
        "Can be used to reduce both bias and variance."
      ],
      "metadata": {
        "id": "X_4tR7CxKrs7"
      }
    },
    {
      "cell_type": "markdown",
      "source": [
        "Q14"
      ],
      "metadata": {
        "id": "zL-OAisDKrqD"
      }
    },
    {
      "cell_type": "markdown",
      "source": [
        "-->Ensemble Learning in Machine Learning\n",
        "Ensemble learning is a technique in machine learning where multiple models (called base learners or weak learners) are combined to solve a particular problem. The idea is that by aggregating the predictions from multiple models, the ensemble can often produce better, more robust results than any single model on its own.\n",
        "\n",
        "Why Use Ensemble Learning?\n",
        "Improved Accuracy: Combining several models can often result in better performance than relying on a single model, particularly in complex problems.\n",
        "\n",
        "Increased Robustness: If one model makes a poor prediction, others in the ensemble may correct it, leading to more stable results.\n",
        "\n",
        "Reduced Overfitting: In some cases, ensemble methods can help reduce overfitting, especially if the individual models tend to overfit.\n",
        "\n",
        "How Does Ensemble Learning Work?\n",
        "Ensemble methods combine multiple models in two major ways:\n",
        "\n",
        "By Aggregating Multiple Models' Predictions:\n",
        "\n",
        "For Classification: Often uses majority voting (the class predicted by most models).\n",
        "\n",
        "For Regression: Uses averaging (mean of predictions from all models).\n",
        "\n",
        "By Training Models on Different Subsets of Data:\n",
        "\n",
        "Bagging (Bootstrap Aggregating): Each model is trained on a random subset of the data, and their predictions are aggregated.\n",
        "\n",
        "Boosting: Models are trained sequentially, with each new model focusing on correcting the errors of the previous one.\n",
        "\n",
        "Stacking: Multiple models are trained, and a meta-model is used to combine their predictions.\n",
        "\n",
        "Types of Ensemble Learning Methods\n",
        "Bagging (Bootstrap Aggregating):\n",
        "\n",
        "Main Idea: Train multiple models in parallel on different subsets of the data, and aggregate their predictions.\n",
        "\n",
        "Example: Random Forest, which uses decision trees as base learners.\n",
        "\n",
        "Use Case: Reduces variance and overfitting for high-variance models (like decision trees).\n",
        "\n",
        "Boosting:\n",
        "\n",
        "Main Idea: Train models sequentially, where each new model corrects the errors made by the previous ones.\n",
        "\n",
        "Example: AdaBoost, Gradient Boosting, XGBoost.\n",
        "\n",
        "Use Case: Focuses on improving accuracy by emphasizing harder-to-predict samples.\n",
        "\n",
        "Stacking (Stacked Generalization):\n",
        "\n",
        "Main Idea: Train multiple models and use another model (called a meta-model) to combine their predictions.\n",
        "\n",
        "Example: Combining decision trees, logistic regression, and neural networks as base learners and using a second model like logistic regression to combine the outputs.\n",
        "\n",
        "Use Case: Can combine a wide variety of model types to leverage their strengths.\n",
        "\n",
        "Voting (Hard and Soft Voting):\n",
        "\n",
        "Main Idea: Combine the predictions of multiple models:\n",
        "\n",
        "Hard Voting: Majority class prediction is selected.\n",
        "\n",
        "Soft Voting: Average probabilities are taken into account to select the class.\n",
        "\n",
        "Use Case: Often used in classification problems to combine the results of several classifiers.\n",
        "\n",
        "Advantages of Ensemble Learning\n",
        "Higher Performance: Generally provides higher accuracy than individual models.\n",
        "\n",
        "Reduces Overfitting: Combining multiple models helps smooth out errors and reduces the chance of overfitting (especially with methods like bagging).\n",
        "\n",
        "Robustness: More stable, as the errors from individual models may cancel each other out.\n",
        "\n",
        "Disadvantages of Ensemble Learning\n",
        "Increased Complexity: More models to train, tune, and maintain.\n",
        "\n",
        "Higher Computational Cost: Requires more computational resources for both training and prediction.\n",
        "\n",
        "Less Interpretability: Harder to explain and interpret compared to a single model, especially for complex ensemble methods like boosting.\n",
        "\n"
      ],
      "metadata": {
        "id": "187qORqzKrnC"
      }
    },
    {
      "cell_type": "markdown",
      "source": [
        "Q15"
      ],
      "metadata": {
        "id": "KVSYZPQ_KrkK"
      }
    },
    {
      "cell_type": "markdown",
      "source": [
        "-->1. When You Have Limited Computational Resources\n",
        "Ensemble methods typically involve training multiple models, which can be computationally expensive. This can be particularly problematic if:\n",
        "\n",
        "You have limited processing power or memory.\n",
        "\n",
        "Your model training process is time-sensitive (e.g., in real-time applications or with very large datasets).\n",
        "\n",
        "The cost of maintaining or deploying multiple models (such as in production) is prohibitive.\n",
        "\n",
        "Alternatives: In such cases, you might want to stick with a single, more efficient model like a simpler decision tree, logistic regression, or linear model.\n",
        "\n",
        "2. When You Have a Very Simple Problem\n",
        "If the task you're working on is relatively simple and a single model performs adequately well, using an ensemble method might be overkill. In such cases, ensemble methods could add unnecessary complexity without providing much improvement.\n",
        "\n",
        "Examples:\n",
        "\n",
        "If a simple linear regression or decision tree already gives you good accuracy on your data, adding complexity through ensembles like Random Forests or Boosting may not provide a significant advantage.\n",
        "\n",
        "Alternatives: In simple cases, a single model that performs well is often sufficient and can be more interpretable and easier to manage.\n",
        "\n",
        "3. When Interpretability is Crucial\n",
        "Ensemble methods, especially those involving models like Random Forests or Boosting, can be hard to interpret. If you need a highly interpretable model (e.g., to explain to stakeholders, for regulatory reasons, or to gain insights into the model's decision-making process), the \"black-box\" nature of many ensemble techniques can be a disadvantage.\n",
        "\n",
        "Examples:\n",
        "\n",
        "In industries like finance, healthcare, or law, you may need a model whose decisions are easily explainable.\n",
        "\n",
        "Alternatives: In such cases, you may prefer simpler models, such as logistic regression, decision trees, or linear models, which offer transparency and explainability.\n",
        "\n",
        "4. When You Have Very Small Datasets\n",
        "Ensemble methods like Bagging or Boosting are generally more effective when trained on large datasets because they combine predictions from multiple models, which helps improve performance and reduce variance. However, with small datasets, they may lead to overfitting, as the base models might overfit to the limited data available, and the ensemble could propagate those errors.\n",
        "\n",
        "Examples:\n",
        "\n",
        "If your dataset is small, say fewer than 100-200 samples, and your models are already prone to overfitting.\n",
        "\n",
        "Alternatives: In this case, simpler models like linear regression or support vector machines (SVM) might perform better by focusing on minimizing overfitting.\n",
        "\n",
        "5. When You're Working with Extremely Noisy Data\n",
        "If the data you're working with is very noisy, ensemble methods might not always help. In fact, they could even exacerbate the problem by allowing noise to propagate through the ensemble. Models like Boosting can especially amplify noise because each new model focuses on correcting errors, and noise can be treated as an error.\n",
        "\n",
        "Examples:\n",
        "\n",
        "If your data has a lot of outliers or irrelevant features, ensemble methods might fit to the noise in ways that don't improve generalization.\n",
        "\n",
        "Alternatives: In such situations, data preprocessing steps like feature selection or robust regression models might be more effective.\n",
        "\n",
        "6. When You Need Real-Time or Low-Latency Predictions\n",
        "Ensemble methods can be slower to predict compared to single models because they involve multiple models making predictions that need to be aggregated. If you are working in an application that requires real-time predictions or has a strict latency requirement (e.g., in autonomous vehicles or high-frequency trading), the overhead of using an ensemble might not be acceptable.\n",
        "\n",
        "Alternatives: A single, lightweight model, like a linear model or a fast decision tree, could provide the necessary speed without sacrificing too much accuracy.\n",
        "\n"
      ],
      "metadata": {
        "id": "LGK32BULKrhS"
      }
    },
    {
      "cell_type": "markdown",
      "source": [
        "Q16"
      ],
      "metadata": {
        "id": "qWqXLJUeKrei"
      }
    },
    {
      "cell_type": "markdown",
      "source": [
        "-->How Bagging Helps in Reducing Overfitting\n",
        "Bagging (Bootstrap Aggregating) is an ensemble technique that combines the predictions of multiple models to improve accuracy and reduce overfitting. It is particularly useful when you have a high-variance model, such as decision trees, that tends to overfit to the training data. Here's how Bagging addresses overfitting:\n",
        "\n",
        "1. Bootstrap Sampling (Data Resampling):\n",
        "In Bagging, each model in the ensemble is trained on a random subset of the training data, created by sampling with replacement (bootstrap sampling).\n",
        "\n",
        "Each sample is drawn randomly from the training data, and some observations may be repeated while others are left out. This means each model is trained on slightly different data, reducing the likelihood that all models overfit in the same way.\n",
        "\n",
        "How it helps:\n",
        "\n",
        "By using different subsets of the data for each model, the ensemble of models is less likely to overfit to specific patterns or noise in the data.\n",
        "\n",
        "If a model overfits on a particular subset of data, other models in the ensemble are unlikely to do the same, making the overall model more robust.\n",
        "\n",
        "2. Averaging Predictions (Reduces Variance):\n",
        "After training multiple models (often decision trees in Bagging), Bagging averages their predictions for regression tasks or uses majority voting for classification tasks.\n",
        "\n",
        "For regression: The final prediction is the average of the predictions from all individual models.\n",
        "\n",
        "For classification: The final prediction is the class that has the most votes across all models.\n",
        "\n",
        "How it helps:\n",
        "\n",
        "Averaging reduces the model's variance because the errors made by individual models are likely to be different.\n",
        "\n",
        "Even if some individual models overfit, their predictions will be \"smoothed out\" when averaged, making the final model more generalizable.\n",
        "\n",
        "3. Reduction in Model Variance:\n",
        "Overfitting typically happens when a model captures too much noise in the training data, leading it to perform poorly on unseen data (i.e., high variance).\n",
        "\n",
        "Bagging works by training many models on different subsets of data, each model will focus on different parts of the dataset, and some noise will be ignored.\n",
        "\n",
        "How it helps:\n",
        "\n",
        "Since Bagging combines multiple models, it reduces the overall model variance. Even if individual models overfit, the final output of the ensemble is less sensitive to fluctuations in the data, leading to a more stable and generalizable model.\n",
        "\n",
        "4. Diverse Models:\n",
        "In Bagging, the randomness of the training subsets (due to bootstrap sampling) ensures that the individual models are trained on different portions of the data. Even though all models are of the same type (e.g., decision trees), the diversity of data subsets reduces the likelihood that all models will overfit in the same way.\n",
        "\n",
        "How it helps:\n",
        "\n",
        "Diversity in the models makes it less likely that all individual models will capture the same noise or overfit to the data in the same way. This improves the overall model’s ability to generalize to unseen data.\n",
        "\n",
        "5. Parallelism and Efficiency:\n",
        "Bagging allows for parallel training since each model is trained independently on a bootstrap sample. This makes it scalable, especially with larger datasets, and also makes it easier to apply to problems that might otherwise require a more complex training setup.\n",
        "\n",
        "How it helps:\n",
        "\n",
        "With more models, Bagging increases accuracy and reduces the risk of overfitting by pooling together predictions from several sources, ensuring that no single model overfits too much.\n",
        "\n",
        "Example:\n",
        "Imagine you're training a decision tree model on a noisy dataset. A single decision tree might capture all the noise in the training data, resulting in high variance (overfitting). However, with Bagging:\n",
        "\n",
        "Each tree in the ensemble will see a different subset of the data and will likely capture different patterns.\n",
        "\n",
        "When you average the predictions of all trees, you smooth out the noise and reduce the overfitting of individual trees.\n",
        "\n"
      ],
      "metadata": {
        "id": "x0peYywVKrbi"
      }
    },
    {
      "cell_type": "markdown",
      "source": [
        "Q17"
      ],
      "metadata": {
        "id": "_Cs-2gt6KrYr"
      }
    },
    {
      "cell_type": "markdown",
      "source": [
        "-->Random Forest is generally better than a single Decision Tree for several reasons, particularly when it comes to generalization, stability, and accuracy. Here’s why:\n",
        "\n",
        "1. Reduces Overfitting (Variance Reduction)\n",
        "A single Decision Tree can easily overfit the training data, especially when it's deep and complex. This means it can capture noise and peculiarities in the data that don’t generalize well to unseen data.\n",
        "\n",
        "Random Forest, on the other hand, reduces overfitting by aggregating the predictions from many different decision trees trained on random subsets of the data. This process makes the final model more robust and generalizable because the individual trees’ errors tend to cancel out when averaged.\n",
        "\n",
        "2. Improved Accuracy through Averaging\n",
        "A single Decision Tree is prone to making poor decisions if it’s overfitted, as it makes very specific rules based on the data it has seen.\n",
        "\n",
        "Random Forest creates multiple trees and takes the average (for regression) or majority vote (for classification) across all trees to make a prediction. This ensemble approach leads to a more accurate and stable prediction because it reduces the likelihood of the model being skewed by the bias or variance of any single tree.\n",
        "\n",
        "3. Handles High-Variance Data Better\n",
        "Decision Trees are highly sensitive to fluctuations and small changes in the data. A small change in the training set could cause the structure of the tree to change drastically, leading to overfitting.\n",
        "\n",
        "Random Forest's use of bootstrapping (random sampling with replacement) to create multiple training sets for each tree ensures that the model isn't as sensitive to individual data points, making it more stable and less prone to high variance.\n",
        "\n",
        "4. Robustness to Outliers\n",
        "A single Decision Tree can be influenced by outliers, especially if they lead to a drastic split early in the tree-building process.\n",
        "\n",
        "In Random Forest, because the decision-making is spread out over many trees, the impact of outliers is reduced. Most trees won’t be influenced by outliers in the same way, leading to a more robust overall model.\n",
        "\n",
        "5. Better Generalization\n",
        "A single Decision Tree might perform well on training data but struggle with new, unseen data due to overfitting.\n",
        "\n",
        "Random Forest improves generalization because it averages over many models, and each tree has a slightly different view of the data. This diversity allows it to perform better on unseen data.\n",
        "\n",
        "6. Feature Importance Estimation\n",
        "While a single Decision Tree can give you feature importance (based on the splits), it’s often biased by the specific data it was trained on.\n",
        "\n",
        "Random Forest provides a more reliable feature importance because it aggregates the importance across many trees, reducing the impact of any single data subset’s bias.\n",
        "\n",
        "7. Parallelization\n",
        "Training a single Decision Tree can be computationally expensive, but it’s done sequentially in one pass.\n",
        "\n",
        "Random Forest can be trained in parallel, as each tree is independent of the others. This makes training much faster on modern computational infrastructure (like multi-core processors)."
      ],
      "metadata": {
        "id": "nqYJXnDxKrVr"
      }
    },
    {
      "cell_type": "markdown",
      "source": [
        "Q18"
      ],
      "metadata": {
        "id": "I2iVe1ioKrS7"
      }
    },
    {
      "cell_type": "markdown",
      "source": [
        "-->Role of Bootstrap Sampling in Bagging\n",
        "In Bagging (Bootstrap Aggregating), bootstrap sampling plays a crucial role in improving the model's performance by creating multiple diverse datasets that are used to train multiple models. The goal of Bagging is to reduce the variance of the model, and bootstrap sampling is the method that enables this by generating diverse training sets.\n",
        "\n",
        "What is Bootstrap Sampling?\n",
        "Bootstrap sampling is a technique where you randomly sample data points from the original training dataset with replacement to create multiple new datasets, each of which is used to train a separate model. This means:\n",
        "\n",
        "Some data points may be repeated in a sample, while others might be left out.\n",
        "\n",
        "Each bootstrap sample has the same size as the original dataset, but the content will differ due to random selection.\n",
        "\n",
        "How Bootstrap Sampling Works in Bagging\n",
        "Original Dataset: You start with the original training dataset\n",
        "𝐷\n",
        "=\n",
        "{\n",
        "𝑥\n",
        "1\n",
        ",\n",
        "𝑥\n",
        "2\n",
        ",\n",
        "𝑥\n",
        "3\n",
        ",\n",
        "…\n",
        ",\n",
        "𝑥\n",
        "𝑛\n",
        "}\n",
        "D={x\n",
        "1\n",
        "​\n",
        " ,x\n",
        "2\n",
        "​\n",
        " ,x\n",
        "3\n",
        "​\n",
        " ,…,x\n",
        "n\n",
        "​\n",
        " }, containing n data points.\n",
        "\n",
        "Generate Bootstrap Samples:\n",
        "\n",
        "Create multiple bootstrap samples (say\n",
        "𝑘\n",
        "k samples) by randomly selecting data points from the original dataset with replacement. Each sample is drawn randomly, and each of the\n",
        "𝑘\n",
        "k samples can contain repeated data points from the original set.\n",
        "\n",
        "For instance, if the original dataset has 1000 data points, each bootstrap sample will also contain 1000 points, but some data points will be repeated, and others may not be included at all.\n",
        "\n",
        "Train Models:\n",
        "\n",
        "Train a separate model on each of the bootstrap samples. This results in\n",
        "𝑘\n",
        "k different models, each having learned from a slightly different version of the dataset.\n",
        "\n",
        "Since the models are trained on different data, they are likely to make different errors (if there is noise in the data), which is crucial for improving overall performance.\n",
        "\n",
        "Aggregate Predictions:\n",
        "\n",
        "Once all models are trained, the predictions are aggregated:\n",
        "\n",
        "For classification, the final prediction is made by majority voting (i.e., the class predicted by the most models).\n",
        "\n",
        "For regression, the final prediction is usually the average of the predictions from all models.\n",
        "\n",
        "Why Does Bootstrap Sampling Help in Bagging?\n",
        "Reduces Variance: Each model is trained on a different subset of data, so the predictions of these models are likely to be slightly different. By averaging the predictions (for regression) or using majority voting (for classification), the variance of the final predictions is reduced. This is particularly important for high-variance models, such as decision trees, which tend to overfit.\n",
        "\n",
        "Diversity in Models: Bootstrap sampling generates different datasets for each model, meaning that the individual models are likely to make different errors. This diversity of errors means that when aggregated, the errors \"cancel out\" to some extent, improving the overall performance of the ensemble.\n",
        "\n",
        "Improves Generalization: The diversity in the data presented to each model prevents the ensemble from overfitting to any particular subset of the data, leading to better generalization to new, unseen data.\n",
        "\n",
        "Example of Bootstrap Sampling\n",
        "Consider a dataset with 5 data points:\n",
        "𝐷\n",
        "=\n",
        "{\n",
        "𝑥\n",
        "1\n",
        ",\n",
        "𝑥\n",
        "2\n",
        ",\n",
        "𝑥\n",
        "3\n",
        ",\n",
        "𝑥\n",
        "4\n",
        ",\n",
        "𝑥\n",
        "5\n",
        "}\n",
        "D={x\n",
        "1\n",
        "​\n",
        " ,x\n",
        "2\n",
        "​\n",
        " ,x\n",
        "3\n",
        "​\n",
        " ,x\n",
        "4\n",
        "​\n",
        " ,x\n",
        "5\n",
        "​\n",
        " }\n",
        "\n",
        "Now, let’s create a bootstrap sample:\n",
        "\n",
        "Bootstrap Sample 1:\n",
        "{\n",
        "𝑥\n",
        "1\n",
        ",\n",
        "𝑥\n",
        "1\n",
        ",\n",
        "𝑥\n",
        "3\n",
        ",\n",
        "𝑥\n",
        "5\n",
        ",\n",
        "𝑥\n",
        "5\n",
        "}\n",
        "{x\n",
        "1\n",
        "​\n",
        " ,x\n",
        "1\n",
        "​\n",
        " ,x\n",
        "3\n",
        "​\n",
        " ,x\n",
        "5\n",
        "​\n",
        " ,x\n",
        "5\n",
        "​\n",
        " }\n",
        "\n",
        "Here,\n",
        "𝑥\n",
        "1\n",
        "x\n",
        "1\n",
        "​\n",
        "  and\n",
        "𝑥\n",
        "5\n",
        "x\n",
        "5\n",
        "​\n",
        "  are repeated, and\n",
        "𝑥\n",
        "2\n",
        "x\n",
        "2\n",
        "​\n",
        "  is not included.\n",
        "\n",
        "Bootstrap Sample 2:\n",
        "{\n",
        "𝑥\n",
        "2\n",
        ",\n",
        "𝑥\n",
        "3\n",
        ",\n",
        "𝑥\n",
        "4\n",
        ",\n",
        "𝑥\n",
        "4\n",
        ",\n",
        "𝑥\n",
        "5\n",
        "}\n",
        "{x\n",
        "2\n",
        "​\n",
        " ,x\n",
        "3\n",
        "​\n",
        " ,x\n",
        "4\n",
        "​\n",
        " ,x\n",
        "4\n",
        "​\n",
        " ,x\n",
        "5\n",
        "​\n",
        " }\n",
        "\n",
        "Here,\n",
        "𝑥\n",
        "4\n",
        "x\n",
        "4\n",
        "​\n",
        "  is repeated, and\n",
        "𝑥\n",
        "1\n",
        "x\n",
        "1\n",
        "​\n",
        "  is not included."
      ],
      "metadata": {
        "id": "eD5a3vOvKrNT"
      }
    },
    {
      "cell_type": "markdown",
      "source": [
        "Q19"
      ],
      "metadata": {
        "id": "dEP3cXdJKrKK"
      }
    },
    {
      "cell_type": "markdown",
      "source": [
        "-->Ensemble techniques are widely used in various real-world applications across many industries because they tend to provide better accuracy, robustness, and generalization compared to single models. Here are some key real-world applications:\n",
        "\n",
        "1. Finance and Credit Scoring\n",
        "Credit Risk Assessment: Banks and financial institutions use ensemble methods to assess the creditworthiness of individuals or businesses. Models like Random Forests and Gradient Boosting are often used to predict the likelihood of loan default or fraud by combining multiple decision trees to improve accuracy.\n",
        "\n",
        "Fraud Detection: Ensemble techniques are used to detect fraudulent activities in financial transactions, where detecting subtle patterns of fraud is critical. Combining predictions from various models helps reduce false positives and negatives.\n",
        "\n",
        "2. Healthcare\n",
        "Disease Diagnosis and Prognosis: In healthcare, ensemble methods are used for medical diagnosis tasks such as detecting cancer, diabetes, and heart disease. For example, models like Random Forests are employed to combine features from medical imaging (e.g., MRI or CT scans) and patient history for better prediction accuracy.\n",
        "\n",
        "Drug Discovery: Ensemble models can be used to predict the effectiveness of drugs or compounds by combining the outputs of multiple models trained on various aspects of chemical properties and biological data.\n",
        "\n",
        "3. E-commerce and Recommendation Systems\n",
        "Product Recommendations: Ensemble methods are extensively used in recommendation systems, such as those used by Amazon or Netflix. By combining different models, such as collaborative filtering and content-based filtering, ensemble techniques help recommend products, movies, or other items to users based on their preferences and behavior.\n",
        "\n",
        "Personalized Marketing: E-commerce websites use ensemble techniques to segment customers, predict purchasing behavior, and optimize marketing strategies by combining the predictions of various machine learning models.\n",
        "\n",
        "4. Autonomous Vehicles\n",
        "Self-Driving Cars: Ensemble techniques are critical in the development of self-driving cars. Multiple models, including decision trees, neural networks, and support vector machines, can be combined to make driving decisions based on sensor data (such as LIDAR, radar, and cameras) to improve decision-making under uncertain or complex environments.\n",
        "\n",
        "Object Detection and Tracking: In autonomous vehicles, ensemble methods are used to combine predictions from different models to detect and track objects like pedestrians, vehicles, and traffic signs in real-time, ensuring greater accuracy and safety.\n",
        "\n",
        "5. Marketing and Customer Segmentation\n",
        "Churn Prediction: Businesses use ensemble models like Random Forests and Gradient Boosting to predict which customers are likely to leave a service (churn) so that targeted interventions can be made. By combining multiple models, the system can achieve better predictions and reduce customer attrition.\n",
        "\n",
        "Targeted Advertising: Ensemble methods are used to improve the targeting of ads by predicting which users are most likely to respond to specific ads, based on user data, browsing history, and past interactions.\n",
        "\n",
        "6. Natural Language Processing (NLP)\n",
        "Sentiment Analysis: Ensemble methods are applied in sentiment analysis to determine the sentiment behind social media posts, reviews, or customer feedback. Combining various models, like decision trees and deep learning models, can help capture different aspects of language and tone, leading to more accurate predictions.\n",
        "\n",
        "Text Classification: For tasks like spam detection, topic modeling, or document categorization, ensemble techniques can combine different models to improve accuracy and handle the complexities of language.\n",
        "\n",
        "7. Image and Video Processing\n",
        "Image Classification: Ensemble methods are commonly used in computer vision tasks such as object detection and classification. Combining the predictions of models like Convolutional Neural Networks (CNNs) with ensemble methods like Random Forests or Boosting can significantly improve accuracy in tasks such as facial recognition, medical imaging, or autonomous drones.\n",
        "\n",
        "Object Detection: In applications such as security surveillance or robotics, combining the outputs of multiple models helps improve the precision and recall of object detection tasks in real-time video streams.\n",
        "\n",
        "8. Sports Analytics\n",
        "Game Outcome Prediction: Ensemble methods are used to predict the outcomes of sports games by combining predictions from multiple machine learning models trained on factors such as player statistics, team performance, and historical data.\n",
        "\n",
        "Player Performance Analysis: In sports analytics, ensemble models can be used to assess player performance, predict injuries, or determine optimal strategies by combining predictions from different models trained on various player metrics and game data.\n",
        "\n",
        "9. Energy and Utilities\n",
        "Energy Demand Forecasting: Ensemble methods are used by utility companies to predict energy demand, optimizing supply and minimizing energy wastage. For example, combining multiple models like Support Vector Machines (SVM) and Decision Trees can provide more accurate demand forecasts.\n",
        "\n",
        "Fault Detection in Power Grids: In power grid systems, ensemble models can detect faults or irregularities by combining multiple sensors' readings and predicting when and where issues may occur in the grid.\n",
        "\n",
        "10. Environmental Monitoring\n",
        "Climate Prediction: Ensemble methods are often used in climate modeling to predict weather patterns, changes in the climate, or natural disasters. By combining the predictions of different models, the uncertainty in weather forecasting can be reduced, leading to more accurate and reliable predictions.\n",
        "\n",
        "Pollution Detection: Ensemble methods are also applied in environmental monitoring to predict air or water quality based on sensor data, helping in early detection of pollution levels.\n",
        "\n",
        "11. Insurance\n",
        "Claim Prediction and Risk Assessment: Insurance companies use ensemble methods to predict claims and assess risk. By combining models like Random Forests and Gradient Boosting, they can more accurately predict the likelihood of insurance claims and optimize pricing strategies based on individual risk profiles.\n",
        "\n",
        "Fraud Detection: Ensemble methods are used to identify fraudulent claims by combining predictions from various models that analyze historical data, customer behavior, and policy details.\n",
        "\n",
        "12. Supply Chain and Logistics\n",
        "Inventory Management: Ensemble methods are used in predicting demand for products in different regions, optimizing inventory management, and minimizing stockouts or overstock situations. Combining different models helps improve demand forecasting accuracy.\n",
        "\n",
        "Route Optimization: In logistics, ensemble models can optimize delivery routes by combining different approaches, such as genetic algorithms and neural networks, to improve efficiency and reduce transportation costs."
      ],
      "metadata": {
        "id": "W2qRlDI8KrHS"
      }
    },
    {
      "cell_type": "markdown",
      "source": [
        "Q20"
      ],
      "metadata": {
        "id": "viffdHblKrET"
      }
    },
    {
      "cell_type": "markdown",
      "source": [
        "-->Bagging and Boosting are both ensemble learning techniques used to improve the performance of machine learning models, but they have distinct approaches, objectives, and characteristics. Here’s a breakdown of the key differences between Bagging and Boosting:\n",
        "\n",
        "1. Objective:\n",
        "Bagging: The goal is to reduce variance and prevent overfitting by averaging the predictions of multiple models. Bagging typically works well for high-variance models (like decision trees).\n",
        "\n",
        "Boosting: The goal is to reduce both bias and variance by sequentially training models where each new model corrects the errors made by the previous one. Boosting improves the accuracy of weak learners (models that perform just slightly better than random guessing).\n",
        "\n",
        "2. Training Process:\n",
        "Bagging:\n",
        "\n",
        "Models are trained independently in parallel on random subsets of the data (bootstrap sampling).\n",
        "\n",
        "Every model gets an equal vote in the final prediction (averaging for regression or majority voting for classification).\n",
        "\n",
        "Boosting:\n",
        "\n",
        "Models are trained sequentially, with each model focusing on the mistakes made by the previous model.\n",
        "\n",
        "Weights are assigned to misclassified data points, and the new model pays more attention to those points. The final prediction is typically a weighted sum of the predictions of all models.\n",
        "\n",
        "3. Type of Learner:\n",
        "Bagging: Typically uses the same model type (e.g., decision trees) for all models in the ensemble.\n",
        "\n",
        "Boosting: Often uses weak learners, which are models that perform slightly better than random guessing. For example, in AdaBoost, weak learners are typically simple decision stumps (one-level decision trees).\n",
        "\n",
        "4. Randomness:\n",
        "Bagging:\n",
        "\n",
        "Introduces randomness through data sampling. Each model is trained on a different bootstrap sample of the data.\n",
        "\n",
        "The focus is on reducing variance by introducing diversity into the ensemble.\n",
        "\n",
        "Boosting:\n",
        "\n",
        "Introduces less randomness. The focus is on using information from previously trained models to correct mistakes. It does not rely on random sampling of the data; instead, it adjusts the data weights.\n",
        "\n",
        "5. Model Weighting:\n",
        "Bagging: All models have equal weight when making the final prediction.\n",
        "\n",
        "Boosting: Models are weighted based on their performance. Models that perform better are given more influence in the final prediction.\n",
        "\n",
        "6. Error Reduction:\n",
        "Bagging: Reduces variance by averaging the predictions of multiple models. Bagging is particularly effective for reducing overfitting and stabilizing models like decision trees.\n",
        "\n",
        "Boosting: Reduces both bias and variance. Boosting focuses on improving the model’s predictive power by iteratively correcting the errors of previous models. It tends to create a strong predictive model by focusing on difficult-to-predict data points.\n",
        "\n",
        "7. Parallel vs. Sequential:\n",
        "Bagging: Since each model is trained independently, Bagging algorithms can be easily parallelized, leading to faster training when using multiple processors.\n",
        "\n",
        "Boosting: Models are trained sequentially, so boosting algorithms are not parallelizable (or are harder to parallelize), and training is typically slower.\n",
        "\n",
        "8. Model Complexity:\n",
        "Bagging: Since Bagging trains multiple independent models, it doesn't add complexity in terms of model structure. Each model is relatively simple (e.g., a single decision tree), but the ensemble’s final prediction is more complex due to the aggregation.\n",
        "\n",
        "Boosting: Boosting gradually increases model complexity as each new model in the sequence is trained to fix the errors of previous models.\n",
        "\n",
        "9. Example Algorithms:\n",
        "Bagging:\n",
        "\n",
        "Random Forests: A popular ensemble method that uses Bagging with decision trees as base learners.\n",
        "\n",
        "Bagging Regressor: Uses Bagging to improve models like decision trees for regression tasks.\n",
        "\n",
        "Boosting:\n",
        "\n",
        "AdaBoost (Adaptive Boosting): Focuses on misclassified points and adjusts their weights.\n",
        "\n",
        "Gradient Boosting (GBM, XGBoost, LightGBM): Uses gradient descent to minimize errors iteratively by fitting new models to the residuals of the predictions.\n",
        "\n",
        "10. Overfitting:\n",
        "Bagging: Reduces overfitting by averaging predictions from multiple models, which reduces variance.\n",
        "\n",
        "Boosting: Can lead to overfitting if the model is allowed to train for too many iterations or if it's too complex. Regularization techniques, such as early stopping or shrinkage, are often used to prevent this.\n",
        "\n",
        "Visual Comparison:\n",
        "Aspect\tBagging\tBoosting\n",
        "Training Process\tIndependent models trained in parallel\tSequential models trained to correct errors\n",
        "Goal\tReduce variance, improve stability\tReduce both bias and variance, improve accuracy\n",
        "Model Type\tSame type of model (e.g., decision trees)\tWeak learners (often decision stumps)\n",
        "Error Handling\tAveraging over models to reduce variance\tCorrects mistakes made by previous models\n",
        "Randomness\tHigh (due to bootstrapping and feature selection)\tLow (focuses on correcting errors in sequence)\n",
        "Final Prediction\tAveraging or majority voting\tWeighted sum of predictions\n",
        "Parallelizable\tYes\tNo"
      ],
      "metadata": {
        "id": "uYmo5tF8KrBj"
      }
    },
    {
      "cell_type": "markdown",
      "source": [
        "#Practical"
      ],
      "metadata": {
        "id": "fOaao8XSKq-y"
      }
    },
    {
      "cell_type": "markdown",
      "source": [
        "Q1"
      ],
      "metadata": {
        "id": "hAE_DkOHKq7y"
      }
    },
    {
      "cell_type": "code",
      "source": [
        "import numpy as np\n",
        "from sklearn.ensemble import BaggingClassifier\n",
        "from sklearn.tree import DecisionTreeClassifier\n",
        "from sklearn.datasets import load_iris\n",
        "from sklearn.model_selection import cross_validate\n",
        "from sklearn.metrics import make_scorer, accuracy_score\n",
        "\n",
        "# Set random seed for reproducibility\n",
        "np.random.seed(42)\n",
        "\n",
        "# Load the Iris dataset\n",
        "data = load_iris()\n",
        "X, y = data.data, data.target\n",
        "\n",
        "# Initialize Bagging Classifier with DecisionTreeClassifier as base estimator\n",
        "bagging = BaggingClassifier(\n",
        "    estimator=DecisionTreeClassifier(random_state=42),\n",
        "    n_estimators=50,  # Number of base estimators\n",
        "    max_samples=0.8,  # Fraction of samples to draw\n",
        "    bootstrap=True,\n",
        "    random_state=42\n",
        ")\n",
        "\n",
        "# Define accuracy scoring metric\n",
        "scoring = {\n",
        "    'accuracy': make_scorer(accuracy_score)\n",
        "}\n",
        "\n",
        "# Perform 5-fold cross-validation\n",
        "cv_results = cross_validate(bagging, X, y, cv=5, scoring=scoring, return_train_score=False)\n",
        "\n",
        "# Extract and print mean and standard deviation of accuracy scores\n",
        "accuracy_mean = np.mean(cv_results['test_accuracy'])\n",
        "accuracy_std = np.std(cv_results['test_accuracy'])\n",
        "\n",
        "print(\"Bagging Classifier (Decision Tree) Performance on Iris Dataset:\")\n",
        "print(f\"Accuracy: Mean = {accuracy_mean:.4f}, Std = {accuracy_std:.4f}\")"
      ],
      "metadata": {
        "colab": {
          "base_uri": "https://localhost:8080/"
        },
        "id": "GS2SvYUQmsjo",
        "outputId": "553d28e6-11be-4019-f051-b5c11cfbb02b"
      },
      "execution_count": 47,
      "outputs": [
        {
          "output_type": "stream",
          "name": "stdout",
          "text": [
            "Bagging Classifier (Decision Tree) Performance on Iris Dataset:\n",
            "Accuracy: Mean = 0.9600, Std = 0.0249\n"
          ]
        }
      ]
    },
    {
      "cell_type": "markdown",
      "source": [
        "Q2"
      ],
      "metadata": {
        "id": "TMa21fHgKq4z"
      }
    },
    {
      "cell_type": "code",
      "source": [
        "import numpy as np\n",
        "from sklearn.ensemble import BaggingRegressor\n",
        "from sklearn.tree import DecisionTreeRegressor\n",
        "from sklearn.datasets import make_regression\n",
        "from sklearn.model_selection import cross_validate\n",
        "from sklearn.metrics import make_scorer, mean_squared_error\n",
        "\n",
        "# Set random seed for reproducibility\n",
        "np.random.seed(42)\n",
        "\n",
        "# Generate synthetic regression dataset\n",
        "X, y = make_regression(n_samples=1000, n_features=10, noise=0.1, random_state=42)\n",
        "\n",
        "# Initialize Bagging Regressor with DecisionTreeRegressor as base estimator\n",
        "bagging = BaggingRegressor(\n",
        "    estimator=DecisionTreeRegressor(random_state=42),\n",
        "    n_estimators=50,  # Number of base estimators\n",
        "    max_samples=0.8,  # Fraction of samples to draw\n",
        "    bootstrap=True,\n",
        "    random_state=42\n",
        ")\n",
        "\n",
        "# Define MSE scoring metric\n",
        "scoring = {\n",
        "    'mse': make_scorer(mean_squared_error, greater_is_better=False)\n",
        "}\n",
        "\n",
        "# Perform 5-fold cross-validation\n",
        "cv_results = cross_validate(bagging, X, y, cv=5, scoring=scoring, return_train_score=False)\n",
        "\n",
        "# Extract and print mean and standard deviation of MSE scores\n",
        "mse_mean = -np.mean(cv_results['test_mse'])  # Negate because greater_is_better=False\n",
        "mse_std = np.std(cv_results['test_mse'])\n",
        "\n",
        "print(\"Bagging Regressor (Decision Tree) Performance:\")\n",
        "print(f\"MSE: Mean = {mse_mean:.4f}, Std = {mse_std:.4f}\")"
      ],
      "metadata": {
        "colab": {
          "base_uri": "https://localhost:8080/"
        },
        "id": "htBfIyZUmjgS",
        "outputId": "51dcba68-0dfe-4212-d72e-b499618ec653"
      },
      "execution_count": 46,
      "outputs": [
        {
          "output_type": "stream",
          "name": "stdout",
          "text": [
            "Bagging Regressor (Decision Tree) Performance:\n",
            "MSE: Mean = 2778.4718, Std = 378.0140\n"
          ]
        }
      ]
    },
    {
      "cell_type": "markdown",
      "source": [
        "Q3"
      ],
      "metadata": {
        "id": "Hd9L1z5BKq16"
      }
    },
    {
      "cell_type": "code",
      "source": [
        "# Import necessary libraries\n",
        "from sklearn.ensemble import RandomForestClassifier\n",
        "from sklearn.datasets import load_breast_cancer\n",
        "from sklearn.model_selection import train_test_split\n",
        "import pandas as pd\n",
        "\n",
        "# Load the Breast Cancer dataset\n",
        "data = load_breast_cancer()\n",
        "X = data.data\n",
        "y = data.target\n",
        "\n",
        "# Split the dataset into training and testing sets\n",
        "X_train, X_test, y_train, y_test = train_test_split(X, y, test_size=0.3, random_state=42)\n",
        "\n",
        "# Initialize the Random Forest Classifier\n",
        "rf_model = RandomForestClassifier(n_estimators=100, random_state=42)\n",
        "\n",
        "# Train the Random Forest Classifier\n",
        "rf_model.fit(X_train, y_train)\n",
        "\n",
        "# Get feature importance scores\n",
        "feature_importances = rf_model.feature_importances_\n",
        "\n",
        "# Create a DataFrame to show feature names and their importance\n",
        "feature_df = pd.DataFrame({\n",
        "    'Feature': data.feature_names,\n",
        "    'Importance': feature_importances\n",
        "})\n",
        "\n",
        "# Sort features by importance\n",
        "feature_df = feature_df.sort_values(by='Importance', ascending=False)\n",
        "\n",
        "# Print feature importance scores\n",
        "print(feature_df)\n"
      ],
      "metadata": {
        "id": "T5nDpz_fLmdj",
        "colab": {
          "base_uri": "https://localhost:8080/"
        },
        "outputId": "24e8e7ab-64c4-458f-e8c3-3d289bdc540d"
      },
      "execution_count": 3,
      "outputs": [
        {
          "output_type": "stream",
          "name": "stdout",
          "text": [
            "                    Feature  Importance\n",
            "7       mean concave points    0.141934\n",
            "27     worst concave points    0.127136\n",
            "23               worst area    0.118217\n",
            "6            mean concavity    0.080557\n",
            "20             worst radius    0.077975\n",
            "22          worst perimeter    0.074292\n",
            "2            mean perimeter    0.060092\n",
            "3                 mean area    0.053810\n",
            "26          worst concavity    0.041080\n",
            "0               mean radius    0.032312\n",
            "13               area error    0.029538\n",
            "21            worst texture    0.018786\n",
            "25        worst compactness    0.017539\n",
            "10             radius error    0.016435\n",
            "28           worst symmetry    0.012929\n",
            "12          perimeter error    0.011770\n",
            "24         worst smoothness    0.011769\n",
            "1              mean texture    0.011064\n",
            "5          mean compactness    0.009216\n",
            "19  fractal dimension error    0.007135\n",
            "29  worst fractal dimension    0.006924\n",
            "4           mean smoothness    0.006223\n",
            "14         smoothness error    0.005881\n",
            "16          concavity error    0.005816\n",
            "15        compactness error    0.004596\n",
            "18           symmetry error    0.004001\n",
            "17     concave points error    0.003382\n",
            "8             mean symmetry    0.003278\n",
            "11            texture error    0.003172\n",
            "9    mean fractal dimension    0.003140\n"
          ]
        }
      ]
    },
    {
      "cell_type": "markdown",
      "source": [
        "Q4"
      ],
      "metadata": {
        "id": "6RxnSGVmKqyy"
      }
    },
    {
      "cell_type": "code",
      "source": [
        "# Import necessary libraries\n",
        "from sklearn.ensemble import RandomForestRegressor\n",
        "from sklearn.tree import DecisionTreeRegressor\n",
        "from sklearn.datasets import fetch_california_housing\n",
        "from sklearn.model_selection import train_test_split\n",
        "from sklearn.metrics import mean_squared_error\n",
        "\n",
        "# Load the California housing dataset\n",
        "data = fetch_california_housing()\n",
        "X = data.data\n",
        "y = data.target\n",
        "\n",
        "# Split the dataset into training and testing sets\n",
        "X_train, X_test, y_train, y_test = train_test_split(X, y, test_size=0.3, random_state=42)\n",
        "\n",
        "# Initialize the models\n",
        "decision_tree_model = DecisionTreeRegressor(random_state=42)\n",
        "random_forest_model = RandomForestRegressor(n_estimators=100, random_state=42)\n",
        "\n",
        "# Train the Decision Tree model\n",
        "decision_tree_model.fit(X_train, y_train)\n",
        "\n",
        "# Train the Random Forest model\n",
        "random_forest_model.fit(X_train, y_train)\n",
        "\n",
        "# Make predictions with both models\n",
        "y_pred_tree = decision_tree_model.predict(X_test)\n",
        "y_pred_forest = random_forest_model.predict(X_test)\n",
        "\n",
        "# Calculate Mean Squared Error for both models\n",
        "mse_tree = mean_squared_error(y_test, y_pred_tree)\n",
        "mse_forest = mean_squared_error(y_test, y_pred_forest)\n",
        "\n",
        "# Print the results\n",
        "print(f\"Decision Tree Model Mean Squared Error (MSE): {mse_tree}\")\n",
        "print(f\"Random Forest Model Mean Squared Error (MSE): {mse_forest}\")\n"
      ],
      "metadata": {
        "colab": {
          "base_uri": "https://localhost:8080/"
        },
        "id": "f9hX15iXgJkJ",
        "outputId": "5bd6a34d-c2cc-4919-abd9-fb97d4d3b6c0"
      },
      "execution_count": 6,
      "outputs": [
        {
          "output_type": "stream",
          "name": "stdout",
          "text": [
            "Decision Tree Model Mean Squared Error (MSE): 0.5280096503174904\n",
            "Random Forest Model Mean Squared Error (MSE): 0.25650512920799395\n"
          ]
        }
      ]
    },
    {
      "cell_type": "markdown",
      "source": [
        "Q5"
      ],
      "metadata": {
        "id": "YzjuWqRBKqv7"
      }
    },
    {
      "cell_type": "code",
      "source": [
        "# Import necessary libraries\n",
        "from sklearn.ensemble import RandomForestClassifier\n",
        "from sklearn.datasets import load_iris\n",
        "from sklearn.model_selection import train_test_split\n",
        "\n",
        "# Load a sample dataset (Iris dataset)\n",
        "data = load_iris()\n",
        "X = data.data\n",
        "y = data.target\n",
        "\n",
        "# Split the dataset into training and testing sets (we'll use training for OOB score)\n",
        "X_train, X_test, y_train, y_test = train_test_split(X, y, test_size=0.3, random_state=42)\n",
        "\n",
        "# Initialize the Random Forest Classifier with OOB enabled\n",
        "rf_model = RandomForestClassifier(n_estimators=100, oob_score=True, random_state=42)\n",
        "\n",
        "# Train the Random Forest Classifier\n",
        "rf_model.fit(X_train, y_train)\n",
        "\n",
        "# Get the OOB score\n",
        "oob_score = rf_model.oob_score_\n",
        "\n",
        "print(f\"Out-of-Bag (OOB) Score: {oob_score}\")\n"
      ],
      "metadata": {
        "id": "120miU7jLnRy",
        "colab": {
          "base_uri": "https://localhost:8080/"
        },
        "outputId": "67ed4f57-41a5-4ea2-ed41-fee57e5aaa53"
      },
      "execution_count": 7,
      "outputs": [
        {
          "output_type": "stream",
          "name": "stdout",
          "text": [
            "Out-of-Bag (OOB) Score: 0.9428571428571428\n"
          ]
        }
      ]
    },
    {
      "cell_type": "markdown",
      "source": [
        "Q6"
      ],
      "metadata": {
        "id": "JksMCz8uKqsz"
      }
    },
    {
      "cell_type": "code",
      "source": [
        "import numpy as np\n",
        "from sklearn.ensemble import BaggingClassifier\n",
        "from sklearn.svm import SVC\n",
        "from sklearn.datasets import make_classification\n",
        "from sklearn.model_selection import cross_validate\n",
        "from sklearn.metrics import make_scorer, accuracy_score\n",
        "from sklearn.preprocessing import StandardScaler\n",
        "\n",
        "# Set random seed for reproducibility\n",
        "np.random.seed(42)\n",
        "\n",
        "# Generate synthetic binary classification dataset\n",
        "X, y = make_classification(n_samples=1000, n_features=20, n_classes=2, random_state=42)\n",
        "\n",
        "# Scale features (important for SVM)\n",
        "scaler = StandardScaler()\n",
        "X = scaler.fit_transform(X)\n",
        "\n",
        "# Initialize Bagging Classifier with SVC as base estimator\n",
        "bagging = BaggingClassifier(\n",
        "    estimator=SVC(probability=True, kernel='rbf', random_state=42),\n",
        "    n_estimators=20,  # Fewer estimators due to SVM's computational cost\n",
        "    max_samples=0.8,  # Fraction of samples to draw\n",
        "    bootstrap=True,\n",
        "    random_state=42\n",
        ")\n",
        "\n",
        "# Define accuracy scoring metric\n",
        "scoring = {\n",
        "    'accuracy': make_scorer(accuracy_score)\n",
        "}\n",
        "\n",
        "# Perform 5-fold cross-validation\n",
        "cv_results = cross_validate(bagging, X, y, cv=5, scoring=scoring, return_train_score=False)\n",
        "\n",
        "# Extract and print mean and standard deviation of accuracy scores\n",
        "accuracy_mean = np.mean(cv_results['test_accuracy'])\n",
        "accuracy_std = np.std(cv_results['test_accuracy'])\n",
        "\n",
        "print(\"Bagging Classifier (SVM) Performance:\")\n",
        "print(f\"Accuracy: Mean = {accuracy_mean:.4f}, Std = {accuracy_std:.4f}\")"
      ],
      "metadata": {
        "colab": {
          "base_uri": "https://localhost:8080/"
        },
        "id": "nsLkIy09mV6Z",
        "outputId": "bb2c5f46-f0f6-4b3f-96c9-dc8c568e2c64"
      },
      "execution_count": 45,
      "outputs": [
        {
          "output_type": "stream",
          "name": "stdout",
          "text": [
            "Bagging Classifier (SVM) Performance:\n",
            "Accuracy: Mean = 0.8640, Std = 0.0248\n"
          ]
        }
      ]
    },
    {
      "cell_type": "markdown",
      "source": [
        "Q7"
      ],
      "metadata": {
        "id": "P5NGfuq9Kqp7"
      }
    },
    {
      "cell_type": "code",
      "source": [
        "# Import necessary libraries\n",
        "from sklearn.ensemble import RandomForestClassifier\n",
        "from sklearn.datasets import load_iris\n",
        "from sklearn.model_selection import train_test_split\n",
        "from sklearn.metrics import accuracy_score\n",
        "import matplotlib.pyplot as plt\n",
        "\n",
        "# Load a sample dataset (Iris dataset)\n",
        "data = load_iris()\n",
        "X = data.data\n",
        "y = data.target\n",
        "\n",
        "# Split the dataset into training and testing sets\n",
        "X_train, X_test, y_train, y_test = train_test_split(X, y, test_size=0.3, random_state=42)\n",
        "\n",
        "# List to store results\n",
        "n_trees = [10, 50, 100, 200, 500]\n",
        "accuracies = []\n",
        "\n",
        "# Train and evaluate Random Forest Classifiers with different numbers of trees\n",
        "for n in n_trees:\n",
        "    rf_model = RandomForestClassifier(n_estimators=n, random_state=42)\n",
        "    rf_model.fit(X_train, y_train)  # Train the model\n",
        "    y_pred = rf_model.predict(X_test)  # Make predictions\n",
        "    accuracy = accuracy_score(y_test, y_pred)  # Calculate accuracy\n",
        "    accuracies.append(accuracy)\n",
        "\n",
        "# Print the accuracy for each number of trees\n",
        "for n, accuracy in zip(n_trees, accuracies):\n",
        "    print(f\"Number of Trees: {n}, Accuracy: {accuracy}\")\n",
        "\n",
        "# Plot the accuracy as a function of the number of trees\n",
        "plt.plot(n_trees, accuracies, marker='o')\n",
        "plt.title('Random Forest Accuracy with Different Numbers of Trees')\n",
        "plt.xlabel('Number of Trees')\n",
        "plt.ylabel('Accuracy')\n",
        "plt.grid(True)\n",
        "plt.show()\n"
      ],
      "metadata": {
        "id": "Fla2w20NLon6",
        "colab": {
          "base_uri": "https://localhost:8080/",
          "height": 559
        },
        "outputId": "3dfa85e0-81f2-4a8e-8c6e-92a370e927d1"
      },
      "execution_count": 9,
      "outputs": [
        {
          "output_type": "stream",
          "name": "stdout",
          "text": [
            "Number of Trees: 10, Accuracy: 1.0\n",
            "Number of Trees: 50, Accuracy: 1.0\n",
            "Number of Trees: 100, Accuracy: 1.0\n",
            "Number of Trees: 200, Accuracy: 1.0\n",
            "Number of Trees: 500, Accuracy: 1.0\n"
          ]
        },
        {
          "output_type": "display_data",
          "data": {
            "text/plain": [
              "<Figure size 640x480 with 1 Axes>"
            ],
            "image/png": "[encoded data removed]"
          },
          "metadata": {}
        }
      ]
    },
    {
      "cell_type": "markdown",
      "source": [
        "Q8"
      ],
      "metadata": {
        "id": "Sc6P_n9XKqiC"
      }
    },
    {
      "cell_type": "code",
      "source": [
        "import numpy as np\n",
        "from sklearn.ensemble import BaggingClassifier\n",
        "from sklearn.linear_model import LogisticRegression\n",
        "from sklearn.datasets import make_classification\n",
        "from sklearn.model_selection import cross_validate\n",
        "from sklearn.metrics import make_scorer, roc_auc_score\n",
        "\n",
        "# Set random seed for reproducibility\n",
        "np.random.seed(42)\n",
        "\n",
        "# Generate synthetic binary classification dataset\n",
        "X, y = make_classification(n_samples=1000, n_features=20, n_classes=2, random_state=42)\n",
        "\n",
        "# Initialize Bagging Classifier with LogisticRegression as base estimator\n",
        "bagging = BaggingClassifier(\n",
        "    estimator=LogisticRegression(random_state=42, max_iter=1000),\n",
        "    n_estimators=50,  # Number of base estimators\n",
        "    max_samples=0.8,  # Fraction of samples to draw\n",
        "    bootstrap=True,\n",
        "    random_state=42\n",
        ")\n",
        "\n",
        "# Define AUC scoring metric\n",
        "scoring = {\n",
        "    'auc': make_scorer(roc_auc_score, needs_proba=True)\n",
        "}\n",
        "\n",
        "# Perform 5-fold cross-validation\n",
        "cv_results = cross_validate(bagging, X, y, cv=5, scoring=scoring, return_train_score=False)\n",
        "\n",
        "# Extract and print mean and standard deviation of AUC scores\n",
        "auc_mean = np.mean(cv_results['test_auc'])\n",
        "auc_std = np.std(cv_results['test_auc'])\n",
        "\n",
        "print(\"Bagging Classifier (Logistic Regression) Performance:\")\n",
        "print(f\"AUC Score: Mean = {auc_mean:.4f}, Std = {auc_std:.4f}\")"
      ],
      "metadata": {
        "colab": {
          "base_uri": "https://localhost:8080/"
        },
        "id": "dmH4asammI8J",
        "outputId": "7e544c0b-2a26-4df9-a699-996774a62eba"
      },
      "execution_count": 44,
      "outputs": [
        {
          "output_type": "stream",
          "name": "stderr",
          "text": [
            "/usr/local/lib/python3.11/dist-packages/sklearn/model_selection/_validation.py:978: UserWarning: Scoring failed. The score on this train-test partition for these parameters will be set to nan. Details: \n",
            "Traceback (most recent call last):\n",
            "  File \"/usr/local/lib/python3.11/dist-packages/sklearn/metrics/_scorer.py\", line 140, in __call__\n",
            "    score = scorer._score(\n",
            "            ^^^^^^^^^^^^^^\n",
            "  File \"/usr/local/lib/python3.11/dist-packages/sklearn/metrics/_scorer.py\", line 388, in _score\n",
            "    return self._sign * self._score_func(y_true, y_pred, **scoring_kwargs)\n",
            "                        ^^^^^^^^^^^^^^^^^^^^^^^^^^^^^^^^^^^^^^^^^^^^^^^^^^\n",
            "  File \"/usr/local/lib/python3.11/dist-packages/sklearn/utils/_param_validation.py\", line 194, in wrapper\n",
            "    params = func_sig.bind(*args, **kwargs)\n",
            "             ^^^^^^^^^^^^^^^^^^^^^^^^^^^^^^\n",
            "  File \"/usr/lib/python3.11/inspect.py\", line 3195, in bind\n",
            "    return self._bind(args, kwargs)\n",
            "           ^^^^^^^^^^^^^^^^^^^^^^^^\n",
            "  File \"/usr/lib/python3.11/inspect.py\", line 3184, in _bind\n",
            "    raise TypeError(\n",
            "TypeError: got an unexpected keyword argument 'needs_proba'\n",
            "\n",
            "  warnings.warn(\n",
            "/usr/local/lib/python3.11/dist-packages/sklearn/model_selection/_validation.py:978: UserWarning: Scoring failed. The score on this train-test partition for these parameters will be set to nan. Details: \n",
            "Traceback (most recent call last):\n",
            "  File \"/usr/local/lib/python3.11/dist-packages/sklearn/metrics/_scorer.py\", line 140, in __call__\n",
            "    score = scorer._score(\n",
            "            ^^^^^^^^^^^^^^\n",
            "  File \"/usr/local/lib/python3.11/dist-packages/sklearn/metrics/_scorer.py\", line 388, in _score\n",
            "    return self._sign * self._score_func(y_true, y_pred, **scoring_kwargs)\n",
            "                        ^^^^^^^^^^^^^^^^^^^^^^^^^^^^^^^^^^^^^^^^^^^^^^^^^^\n",
            "  File \"/usr/local/lib/python3.11/dist-packages/sklearn/utils/_param_validation.py\", line 194, in wrapper\n",
            "    params = func_sig.bind(*args, **kwargs)\n",
            "             ^^^^^^^^^^^^^^^^^^^^^^^^^^^^^^\n",
            "  File \"/usr/lib/python3.11/inspect.py\", line 3195, in bind\n",
            "    return self._bind(args, kwargs)\n",
            "           ^^^^^^^^^^^^^^^^^^^^^^^^\n",
            "  File \"/usr/lib/python3.11/inspect.py\", line 3184, in _bind\n",
            "    raise TypeError(\n",
            "TypeError: got an unexpected keyword argument 'needs_proba'\n",
            "\n",
            "  warnings.warn(\n",
            "/usr/local/lib/python3.11/dist-packages/sklearn/model_selection/_validation.py:978: UserWarning: Scoring failed. The score on this train-test partition for these parameters will be set to nan. Details: \n",
            "Traceback (most recent call last):\n",
            "  File \"/usr/local/lib/python3.11/dist-packages/sklearn/metrics/_scorer.py\", line 140, in __call__\n",
            "    score = scorer._score(\n",
            "            ^^^^^^^^^^^^^^\n",
            "  File \"/usr/local/lib/python3.11/dist-packages/sklearn/metrics/_scorer.py\", line 388, in _score\n",
            "    return self._sign * self._score_func(y_true, y_pred, **scoring_kwargs)\n",
            "                        ^^^^^^^^^^^^^^^^^^^^^^^^^^^^^^^^^^^^^^^^^^^^^^^^^^\n",
            "  File \"/usr/local/lib/python3.11/dist-packages/sklearn/utils/_param_validation.py\", line 194, in wrapper\n",
            "    params = func_sig.bind(*args, **kwargs)\n",
            "             ^^^^^^^^^^^^^^^^^^^^^^^^^^^^^^\n",
            "  File \"/usr/lib/python3.11/inspect.py\", line 3195, in bind\n",
            "    return self._bind(args, kwargs)\n",
            "           ^^^^^^^^^^^^^^^^^^^^^^^^\n",
            "  File \"/usr/lib/python3.11/inspect.py\", line 3184, in _bind\n",
            "    raise TypeError(\n",
            "TypeError: got an unexpected keyword argument 'needs_proba'\n",
            "\n",
            "  warnings.warn(\n",
            "/usr/local/lib/python3.11/dist-packages/sklearn/model_selection/_validation.py:978: UserWarning: Scoring failed. The score on this train-test partition for these parameters will be set to nan. Details: \n",
            "Traceback (most recent call last):\n",
            "  File \"/usr/local/lib/python3.11/dist-packages/sklearn/metrics/_scorer.py\", line 140, in __call__\n",
            "    score = scorer._score(\n",
            "            ^^^^^^^^^^^^^^\n",
            "  File \"/usr/local/lib/python3.11/dist-packages/sklearn/metrics/_scorer.py\", line 388, in _score\n",
            "    return self._sign * self._score_func(y_true, y_pred, **scoring_kwargs)\n",
            "                        ^^^^^^^^^^^^^^^^^^^^^^^^^^^^^^^^^^^^^^^^^^^^^^^^^^\n",
            "  File \"/usr/local/lib/python3.11/dist-packages/sklearn/utils/_param_validation.py\", line 194, in wrapper\n",
            "    params = func_sig.bind(*args, **kwargs)\n",
            "             ^^^^^^^^^^^^^^^^^^^^^^^^^^^^^^\n",
            "  File \"/usr/lib/python3.11/inspect.py\", line 3195, in bind\n",
            "    return self._bind(args, kwargs)\n",
            "           ^^^^^^^^^^^^^^^^^^^^^^^^\n",
            "  File \"/usr/lib/python3.11/inspect.py\", line 3184, in _bind\n",
            "    raise TypeError(\n",
            "TypeError: got an unexpected keyword argument 'needs_proba'\n",
            "\n",
            "  warnings.warn(\n"
          ]
        },
        {
          "output_type": "stream",
          "name": "stdout",
          "text": [
            "Bagging Classifier (Logistic Regression) Performance:\n",
            "AUC Score: Mean = nan, Std = nan\n"
          ]
        },
        {
          "output_type": "stream",
          "name": "stderr",
          "text": [
            "/usr/local/lib/python3.11/dist-packages/sklearn/model_selection/_validation.py:978: UserWarning: Scoring failed. The score on this train-test partition for these parameters will be set to nan. Details: \n",
            "Traceback (most recent call last):\n",
            "  File \"/usr/local/lib/python3.11/dist-packages/sklearn/metrics/_scorer.py\", line 140, in __call__\n",
            "    score = scorer._score(\n",
            "            ^^^^^^^^^^^^^^\n",
            "  File \"/usr/local/lib/python3.11/dist-packages/sklearn/metrics/_scorer.py\", line 388, in _score\n",
            "    return self._sign * self._score_func(y_true, y_pred, **scoring_kwargs)\n",
            "                        ^^^^^^^^^^^^^^^^^^^^^^^^^^^^^^^^^^^^^^^^^^^^^^^^^^\n",
            "  File \"/usr/local/lib/python3.11/dist-packages/sklearn/utils/_param_validation.py\", line 194, in wrapper\n",
            "    params = func_sig.bind(*args, **kwargs)\n",
            "             ^^^^^^^^^^^^^^^^^^^^^^^^^^^^^^\n",
            "  File \"/usr/lib/python3.11/inspect.py\", line 3195, in bind\n",
            "    return self._bind(args, kwargs)\n",
            "           ^^^^^^^^^^^^^^^^^^^^^^^^\n",
            "  File \"/usr/lib/python3.11/inspect.py\", line 3184, in _bind\n",
            "    raise TypeError(\n",
            "TypeError: got an unexpected keyword argument 'needs_proba'\n",
            "\n",
            "  warnings.warn(\n"
          ]
        }
      ]
    },
    {
      "cell_type": "markdown",
      "source": [
        "Q9"
      ],
      "metadata": {
        "id": "7JWFpp5lKqfT"
      }
    },
    {
      "cell_type": "code",
      "source": [
        "# Import necessary libraries\n",
        "from sklearn.ensemble import RandomForestRegressor\n",
        "from sklearn.datasets import fetch_california_housing\n",
        "from sklearn.model_selection import train_test_split\n",
        "import pandas as pd\n",
        "import matplotlib.pyplot as plt\n",
        "\n",
        "# Load the California Housing dataset\n",
        "data = fetch_california_housing()\n",
        "X = data.data\n",
        "y = data.target\n",
        "\n",
        "# Split the dataset into training and testing sets\n",
        "X_train, X_test, y_train, y_test = train_test_split(X, y, test_size=0.3, random_state=42)\n",
        "\n",
        "# Initialize the Random Forest Regressor\n",
        "rf_model = RandomForestRegressor(n_estimators=100, random_state=42)\n",
        "\n",
        "# Train the Random Forest Regressor\n",
        "rf_model.fit(X_train, y_train)\n",
        "\n",
        "# Get feature importance scores\n",
        "feature_importances = rf_model.feature_importances_\n",
        "\n",
        "# Create a DataFrame for better visualization\n",
        "feature_df = pd.DataFrame({\n",
        "    'Feature': data.feature_names,\n",
        "    'Importance': feature_importances\n",
        "})\n",
        "\n",
        "# Sort features by importance\n",
        "feature_df = feature_df.sort_values(by='Importance', ascending=False)\n",
        "\n",
        "# Print the feature importance scores\n",
        "print(\"Feature Importance Scores:\")\n",
        "print(feature_df)\n",
        "\n",
        "# Plot the feature importances\n",
        "plt.figure(figsize=(10, 6))\n",
        "plt.barh(feature_df['Feature'], feature_df['Importance'], color='skyblue')\n",
        "plt.xlabel('Importance')\n",
        "plt.title('Feature Importance Scores for Random Forest Regressor')\n",
        "plt.gca().invert_yaxis()  # To show the most important feature on top\n",
        "plt.show()\n"
      ],
      "metadata": {
        "id": "CVYB1xMcLpZ0",
        "colab": {
          "base_uri": "https://localhost:8080/",
          "height": 738
        },
        "outputId": "ae5ec95b-cd5d-4b09-ba6e-e84d60d4d418"
      },
      "execution_count": 12,
      "outputs": [
        {
          "output_type": "stream",
          "name": "stdout",
          "text": [
            "Feature Importance Scores:\n",
            "      Feature  Importance\n",
            "0      MedInc    0.526011\n",
            "5    AveOccup    0.138220\n",
            "7   Longitude    0.086124\n",
            "6    Latitude    0.086086\n",
            "1    HouseAge    0.054654\n",
            "2    AveRooms    0.047188\n",
            "4  Population    0.031722\n",
            "3   AveBedrms    0.029995\n"
          ]
        },
        {
          "output_type": "display_data",
          "data": {
            "text/plain": [
              "<Figure size 1000x600 with 1 Axes>"
            ],
            "image/png": "[encoded data removed]"
          },
          "metadata": {}
        }
      ]
    },
    {
      "cell_type": "markdown",
      "source": [
        "Q10"
      ],
      "metadata": {
        "id": "Ld33VFn4Kqcz"
      }
    },
    {
      "cell_type": "code",
      "source": [
        "import numpy as np\n",
        "from sklearn.ensemble import BaggingClassifier, RandomForestClassifier\n",
        "from sklearn.tree import DecisionTreeClassifier\n",
        "from sklearn.datasets import make_classification\n",
        "from sklearn.model_selection import cross_validate\n",
        "from sklearn.metrics import make_scorer, accuracy_score\n",
        "\n",
        "# Set random seed for reproducibility\n",
        "np.random.seed(42)\n",
        "\n",
        "# Generate synthetic classification dataset\n",
        "X, y = make_classification(n_samples=1000, n_features=20, n_classes=2, random_state=42)\n",
        "\n",
        "# Initialize models\n",
        "models = {\n",
        "    'Bagging Classifier': BaggingClassifier(\n",
        "        estimator=DecisionTreeClassifier(random_state=42),\n",
        "        n_estimators=50,  # Number of base estimators\n",
        "        max_samples=0.8,  # Fraction of samples to draw\n",
        "        bootstrap=True,\n",
        "        random_state=42\n",
        "    ),\n",
        "    'Random Forest': RandomForestClassifier(\n",
        "        n_estimators=50,  # Match number of estimators for fair comparison\n",
        "        max_features='sqrt',  # Random feature selection\n",
        "        bootstrap=True,\n",
        "        random_state=42\n",
        "    )\n",
        "}\n",
        "\n",
        "# Define scoring metric\n",
        "scoring = {\n",
        "    'accuracy': make_scorer(accuracy_score)\n",
        "}\n",
        "\n",
        "# Train and evaluate each model\n",
        "results = {}\n",
        "for name, model in models.items():\n",
        "    # Perform 5-fold cross-validation\n",
        "    cv_results = cross_validate(model, X, y, cv=5, scoring=scoring, return_train_score=False)\n",
        "\n",
        "    # Store mean and std of accuracy\n",
        "    results[name] = {\n",
        "        'accuracy_mean': np.mean(cv_results['test_accuracy']),\n",
        "        'accuracy_std': np.std(cv_results['test_accuracy'])\n",
        "    }\n",
        "\n",
        "# Print results\n",
        "print(\"Performance Comparison: Bagging Classifier vs. Random Forest\")\n",
        "for name, metrics in results.items():\n",
        "    print(f\"\\nModel: {name}\")\n",
        "    print(f\"Accuracy: Mean = {metrics['accuracy_mean']:.4f}, Std = {metrics['accuracy_std']:.4f}\")"
      ],
      "metadata": {
        "colab": {
          "base_uri": "https://localhost:8080/"
        },
        "id": "wNXx967El61h",
        "outputId": "afea6d68-232c-4aa2-918b-c65ce6bff526"
      },
      "execution_count": 43,
      "outputs": [
        {
          "output_type": "stream",
          "name": "stdout",
          "text": [
            "Performance Comparison: Bagging Classifier vs. Random Forest\n",
            "\n",
            "Model: Bagging Classifier\n",
            "Accuracy: Mean = 0.9070, Std = 0.0244\n",
            "\n",
            "Model: Random Forest\n",
            "Accuracy: Mean = 0.9000, Std = 0.0249\n"
          ]
        }
      ]
    },
    {
      "cell_type": "markdown",
      "source": [
        "Q11"
      ],
      "metadata": {
        "id": "5p-2XjG7KqZL"
      }
    },
    {
      "cell_type": "code",
      "source": [
        "# Import necessary libraries\n",
        "from sklearn.ensemble import RandomForestClassifier\n",
        "from sklearn.datasets import load_iris\n",
        "from sklearn.model_selection import train_test_split, GridSearchCV\n",
        "from sklearn.metrics import accuracy_score\n",
        "\n",
        "# Load the Iris dataset\n",
        "data = load_iris()\n",
        "X = data.data\n",
        "y = data.target\n",
        "\n",
        "# Split the dataset into training and testing sets\n",
        "X_train, X_test, y_train, y_test = train_test_split(X, y, test_size=0.3, random_state=42)\n",
        "\n",
        "# Initialize the Random Forest Classifier\n",
        "rf_model = RandomForestClassifier(random_state=42)\n",
        "\n",
        "# Define the hyperparameter grid for GridSearchCV\n",
        "param_grid = {\n",
        "    'n_estimators': [50, 100],   # Number of trees\n",
        "    'max_depth': [10, 20, None],  # Maximum depth of the trees\n",
        "}\n",
        "\n",
        "# Initialize GridSearchCV\n",
        "grid_search = GridSearchCV(estimator=rf_model, param_grid=param_grid, cv=3, n_jobs=-1)\n",
        "\n",
        "# Train the Random Forest Classifier using GridSearchCV\n",
        "grid_search.fit(X_train, y_train)\n",
        "\n",
        "# Get the best parameters from GridSearchCV\n",
        "best_params = grid_search.best_params_\n",
        "print(f\"Best Hyperparameters: {best_params}\")\n",
        "\n",
        "# Test the model with the best hyperparameters\n",
        "best_rf_model = grid_search.best_estimator_\n",
        "\n",
        "# Make predictions on the test set\n",
        "y_pred = best_rf_model.predict(X_test)\n",
        "\n",
        "# Calculate and print the accuracy on the test set\n",
        "accuracy = accuracy_score(y_test, y_pred)\n",
        "print(f\"Test Accuracy with Best Hyperparameters: {accuracy}\")\n"
      ],
      "metadata": {
        "colab": {
          "base_uri": "https://localhost:8080/"
        },
        "id": "K_iqioCKibja",
        "outputId": "bec7b10d-5c52-44bd-ac3c-8fbe970e36e6"
      },
      "execution_count": 20,
      "outputs": [
        {
          "output_type": "stream",
          "name": "stdout",
          "text": [
            "Best Hyperparameters: {'max_depth': 10, 'n_estimators': 50}\n",
            "Test Accuracy with Best Hyperparameters: 1.0\n"
          ]
        }
      ]
    },
    {
      "cell_type": "markdown",
      "source": [
        "Q12"
      ],
      "metadata": {
        "id": "YDY5QJnuKqWD"
      }
    },
    {
      "cell_type": "code",
      "source": [
        "import numpy as np\n",
        "from sklearn.ensemble import BaggingRegressor\n",
        "from sklearn.tree import DecisionTreeRegressor\n",
        "from sklearn.datasets import make_regression\n",
        "from sklearn.model_selection import cross_validate\n",
        "from sklearn.metrics import make_scorer, mean_squared_error, r2_score\n",
        "\n",
        "# Set random seed for reproducibility\n",
        "np.random.seed(42)\n",
        "\n",
        "# Generate synthetic regression dataset\n",
        "X, y = make_regression(n_samples=1000, n_features=10, noise=0.1, random_state=42)\n",
        "\n",
        "# Define different numbers of base estimators\n",
        "n_estimators_values = [10, 20, 50, 100, 200]\n",
        "\n",
        "# Define scoring metrics\n",
        "scoring = {\n",
        "    'mse': make_scorer(mean_squared_error, greater_is_better=False),\n",
        "    'r2': make_scorer(r2_score)\n",
        "}\n",
        "\n",
        "# Train and evaluate Bagging Regressor for each n_estimators value\n",
        "results = {}\n",
        "for n_estimators in n_estimators_values:\n",
        "    # Initialize Bagging Regressor\n",
        "    bagging = BaggingRegressor(\n",
        "        estimator=DecisionTreeRegressor(random_state=42),\n",
        "        n_estimators=n_estimators,\n",
        "        max_samples=0.8,  # Fraction of samples to draw\n",
        "        bootstrap=True,\n",
        "        random_state=42\n",
        "    )\n",
        "\n",
        "    # Perform 5-fold cross-validation\n",
        "    cv_results = cross_validate(bagging, X, y, cv=5, scoring=scoring, return_train_score=False)\n",
        "\n",
        "    # Store mean and std of scores\n",
        "    results[n_estimators] = {\n",
        "        'mse_mean': -np.mean(cv_results['test_mse']),  # Negate because greater_is_better=False\n",
        "        'mse_std': np.std(cv_results['test_mse']),\n",
        "        'r2_mean': np.mean(cv_results['test_r2']),\n",
        "        'r2_std': np.std(cv_results['test_r2'])\n",
        "    }\n",
        "\n",
        "# Print results\n",
        "print(\"Bagging Regressor Performance Comparison (Varying n_estimators):\")\n",
        "for n_estimators, metrics in results.items():\n",
        "    print(f\"\\nNumber of Estimators: {n_estimators}\")\n",
        "    print(f\"MSE: Mean = {metrics['mse_mean']:.4f}, Std = {metrics['mse_std']:.4f}\")\n",
        "    print(f\"R²: Mean = {metrics['r2_mean']:.4f}, Std = {metrics['r2_std']:.4f}\")"
      ],
      "metadata": {
        "colab": {
          "base_uri": "https://localhost:8080/"
        },
        "id": "lJmRs0o6lufB",
        "outputId": "6d49e236-02e5-45a5-a85f-32e364191102"
      },
      "execution_count": 42,
      "outputs": [
        {
          "output_type": "stream",
          "name": "stdout",
          "text": [
            "Bagging Regressor Performance Comparison (Varying n_estimators):\n",
            "\n",
            "Number of Estimators: 10\n",
            "MSE: Mean = 3103.9050, Std = 359.2148\n",
            "R²: Mean = 0.8214, Std = 0.0114\n",
            "\n",
            "Number of Estimators: 20\n",
            "MSE: Mean = 2930.0967, Std = 354.3834\n",
            "R²: Mean = 0.8316, Std = 0.0098\n",
            "\n",
            "Number of Estimators: 50\n",
            "MSE: Mean = 2778.4718, Std = 378.0140\n",
            "R²: Mean = 0.8404, Std = 0.0116\n",
            "\n",
            "Number of Estimators: 100\n",
            "MSE: Mean = 2684.2808, Std = 384.0675\n",
            "R²: Mean = 0.8458, Std = 0.0124\n",
            "\n",
            "Number of Estimators: 200\n",
            "MSE: Mean = 2666.8133, Std = 392.1574\n",
            "R²: Mean = 0.8469, Std = 0.0124\n"
          ]
        }
      ]
    },
    {
      "cell_type": "markdown",
      "source": [
        "Q13"
      ],
      "metadata": {
        "id": "7MlnztXOKqTE"
      }
    },
    {
      "cell_type": "code",
      "source": [
        "# Import necessary libraries\n",
        "from sklearn.ensemble import RandomForestClassifier\n",
        "from sklearn.datasets import load_iris\n",
        "from sklearn.model_selection import train_test_split\n",
        "from sklearn.metrics import accuracy_score\n",
        "import pandas as pd\n",
        "\n",
        "# Load the Iris dataset\n",
        "data = load_iris()\n",
        "X = data.data\n",
        "y = data.target\n",
        "\n",
        "# Split the dataset into training and testing sets\n",
        "X_train, X_test, y_train, y_test = train_test_split(X, y, test_size=0.3, random_state=42)\n",
        "\n",
        "# Initialize and train the Random Forest Classifier\n",
        "rf_model = RandomForestClassifier(n_estimators=100, random_state=42)\n",
        "rf_model.fit(X_train, y_train)\n",
        "\n",
        "# Make predictions on the test set\n",
        "y_pred = rf_model.predict(X_test)\n",
        "\n",
        "# Calculate the accuracy of the model\n",
        "accuracy = accuracy_score(y_test, y_pred)\n",
        "print(f\"Accuracy: {accuracy * 100:.2f}%\")\n",
        "\n",
        "# Identify the misclassified samples\n",
        "misclassified_idx = (y_pred != y_test)\n",
        "\n",
        "# Display the misclassified samples\n",
        "misclassified_samples = pd.DataFrame(X_test[misclassified_idx], columns=data.feature_names)\n",
        "misclassified_samples['True Class'] = y_test[misclassified_idx]\n",
        "misclassified_samples['Predicted Class'] = y_pred[misclassified_idx]\n",
        "\n",
        "# Print the misclassified samples\n",
        "print(\"\\nMisclassified Samples:\")\n",
        "print(misclassified_samples)\n",
        "\n"
      ],
      "metadata": {
        "id": "lCVCuXuoLrbS",
        "colab": {
          "base_uri": "https://localhost:8080/"
        },
        "outputId": "54c49310-d562-4074-f547-096f5be669d5"
      },
      "execution_count": 23,
      "outputs": [
        {
          "output_type": "stream",
          "name": "stdout",
          "text": [
            "Accuracy: 100.00%\n",
            "\n",
            "Misclassified Samples:\n",
            "Empty DataFrame\n",
            "Columns: [sepal length (cm), sepal width (cm), petal length (cm), petal width (cm), True Class, Predicted Class]\n",
            "Index: []\n"
          ]
        }
      ]
    },
    {
      "cell_type": "markdown",
      "source": [
        "Q14"
      ],
      "metadata": {
        "id": "UkhKwso_KqQD"
      }
    },
    {
      "cell_type": "code",
      "source": [
        "import numpy as np\n",
        "from sklearn.ensemble import BaggingClassifier\n",
        "from sklearn.tree import DecisionTreeClassifier\n",
        "from sklearn.datasets import make_classification\n",
        "from sklearn.model_selection import cross_validate\n",
        "from sklearn.metrics import make_scorer, precision_score, recall_score, f1_score\n",
        "\n",
        "# Set random seed for reproducibility\n",
        "np.random.seed(42)\n",
        "\n",
        "# Generate synthetic classification dataset\n",
        "X, y = make_classification(n_samples=1000, n_features=20, n_classes=2, random_state=42)\n",
        "\n",
        "# Initialize models\n",
        "models = {\n",
        "    'Bagging Classifier': BaggingClassifier(\n",
        "        estimator=DecisionTreeClassifier(random_state=42),\n",
        "        n_estimators=50,  # Number of base estimators\n",
        "        max_samples=0.8,  # Fraction of samples to draw\n",
        "        bootstrap=True,\n",
        "        random_state=42\n",
        "    ),\n",
        "    'Decision Tree': DecisionTreeClassifier(random_state=42)\n",
        "}\n",
        "\n",
        "# Define scoring metrics\n",
        "scoring = {\n",
        "    'precision': make_scorer(precision_score, average='weighted'),\n",
        "    'recall': make_scorer(recall_score, average='weighted'),\n",
        "    'f1': make_scorer(f1_score, average='weighted')\n",
        "}\n",
        "\n",
        "# Train and evaluate each model\n",
        "results = {}\n",
        "for name, model in models.items():\n",
        "    # Perform 5-fold cross-validation\n",
        "    cv_results = cross_validate(model, X, y, cv=5, scoring=scoring, return_train_score=False)\n",
        "\n",
        "    # Store mean and std of scores\n",
        "    results[name] = {\n",
        "        'precision_mean': np.mean(cv_results['test_precision']),\n",
        "        'precision_std': np.std(cv_results['test_precision']),\n",
        "        'recall_mean': np.mean(cv_results['test_recall']),\n",
        "        'recall_std': np.std(cv_results['test_recall']),\n",
        "        'f1_mean': np.mean(cv_results['test_f1']),\n",
        "        'f1_std': np.std(cv_results['test_f1'])\n",
        "    }\n",
        "\n",
        "# Print results\n",
        "print(\"Performance Comparison: Bagging Classifier vs. Decision Tree\")\n",
        "for name, metrics in results.items():\n",
        "    print(f\"\\nModel: {name}\")\n",
        "    print(f\"Precision: Mean = {metrics['precision_mean']:.4f}, Std = {metrics['precision_std']:.4f}\")\n",
        "    print(f\"Recall: Mean = {metrics['recall_mean']:.4f}, Std = {metrics['recall_std']:.4f}\")\n",
        "    print(f\"F1-Score: Mean = {metrics['f1_mean']:.4f}, Std = {metrics['f1_std']:.4f}\")"
      ],
      "metadata": {
        "colab": {
          "base_uri": "https://localhost:8080/"
        },
        "id": "ORUA1ZGVlgih",
        "outputId": "1f8153a7-50de-41ff-ab24-86c01f87d3a7"
      },
      "execution_count": 41,
      "outputs": [
        {
          "output_type": "stream",
          "name": "stdout",
          "text": [
            "Performance Comparison: Bagging Classifier vs. Decision Tree\n",
            "\n",
            "Model: Bagging Classifier\n",
            "Precision: Mean = 0.9090, Std = 0.0237\n",
            "Recall: Mean = 0.9070, Std = 0.0244\n",
            "F1-Score: Mean = 0.9069, Std = 0.0245\n",
            "\n",
            "Model: Decision Tree\n",
            "Precision: Mean = 0.8622, Std = 0.0230\n",
            "Recall: Mean = 0.8620, Std = 0.0232\n",
            "F1-Score: Mean = 0.8620, Std = 0.0232\n"
          ]
        }
      ]
    },
    {
      "cell_type": "markdown",
      "source": [
        "Q15"
      ],
      "metadata": {
        "id": "dtSWV9zBKqM6"
      }
    },
    {
      "cell_type": "code",
      "source": [
        "# Import necessary libraries\n",
        "from sklearn.ensemble import RandomForestClassifier\n",
        "from sklearn.datasets import load_iris\n",
        "from sklearn.model_selection import train_test_split\n",
        "from sklearn.metrics import confusion_matrix\n",
        "import seaborn as sns\n",
        "import matplotlib.pyplot as plt\n",
        "\n",
        "# Load the Iris dataset\n",
        "data = load_iris()\n",
        "X = data.data\n",
        "y = data.target\n",
        "\n",
        "# Split the dataset into training and testing sets\n",
        "X_train, X_test, y_train, y_test = train_test_split(X, y, test_size=0.3, random_state=42)\n",
        "\n",
        "# Initialize and train the Random Forest Classifier\n",
        "rf_model = RandomForestClassifier(n_estimators=100, random_state=42)\n",
        "rf_model.fit(X_train, y_train)\n",
        "\n",
        "# Make predictions on the test set\n",
        "y_pred = rf_model.predict(X_test)\n",
        "\n",
        "# Calculate the confusion matrix\n",
        "cm = confusion_matrix(y_test, y_pred)\n",
        "\n",
        "# Visualize the confusion matrix using a heatmap\n",
        "plt.figure(figsize=(8, 6))\n",
        "sns.heatmap(cm, annot=True, fmt='d', cmap='Blues', xticklabels=data.target_names, yticklabels=data.target_names)\n",
        "plt.title('Confusion Matrix for Random Forest Classifier')\n",
        "plt.xlabel('Predicted Class')\n",
        "plt.ylabel('True Class')\n",
        "plt.show()\n"
      ],
      "metadata": {
        "id": "YO8sDQIiLsIr",
        "colab": {
          "base_uri": "https://localhost:8080/",
          "height": 564
        },
        "outputId": "67025e54-58bc-431d-93fd-bdefde100af8"
      },
      "execution_count": 26,
      "outputs": [
        {
          "output_type": "display_data",
          "data": {
            "text/plain": [
              "<Figure size 800x600 with 2 Axes>"
            ],
            "image/png": "[encoded data removed]"
          },
          "metadata": {}
        }
      ]
    },
    {
      "cell_type": "markdown",
      "source": [
        "Q16"
      ],
      "metadata": {
        "id": "QKUWbQhnKqKD"
      }
    },
    {
      "cell_type": "code",
      "source": [
        "# Import necessary libraries\n",
        "from sklearn.datasets import load_iris\n",
        "from sklearn.model_selection import train_test_split\n",
        "from sklearn.tree import DecisionTreeClassifier\n",
        "from sklearn.svm import SVC\n",
        "from sklearn.linear_model import LogisticRegression\n",
        "from sklearn.ensemble import StackingClassifier, VotingClassifier\n",
        "from sklearn.metrics import accuracy_score\n",
        "\n",
        "# Load the Iris dataset\n",
        "data = load_iris()\n",
        "X = data.data\n",
        "y = data.target\n",
        "\n",
        "# Split the dataset into training and testing sets\n",
        "X_train, X_test, y_train, y_test = train_test_split(X, y, test_size=0.3, random_state=42)\n",
        "\n",
        "# Initialize the base models\n",
        "dt = DecisionTreeClassifier(random_state=42)\n",
        "svm = SVC(random_state=42)\n",
        "lr = LogisticRegression(max_iter=200, random_state=42)\n",
        "\n",
        "# Create the stacking classifier\n",
        "stacking_model = StackingClassifier(estimators=[('dt', dt), ('svm', svm), ('lr', lr)], final_estimator=LogisticRegression())\n",
        "\n",
        "# Create the voting classifier (for comparison)\n",
        "voting_model = VotingClassifier(estimators=[('dt', dt), ('svm', svm), ('lr', lr)], voting='hard')\n",
        "\n",
        "# Train the stacking classifier\n",
        "stacking_model.fit(X_train, y_train)\n",
        "\n",
        "# Train the voting classifier\n",
        "voting_model.fit(X_train, y_train)\n",
        "\n",
        "# Predict with both models\n",
        "y_pred_stacking = stacking_model.predict(X_test)\n",
        "y_pred_voting = voting_model.predict(X_test)\n",
        "\n",
        "# Calculate accuracy for both models\n",
        "accuracy_stacking = accuracy_score(y_test, y_pred_stacking)\n",
        "accuracy_voting = accuracy_score(y_test, y_pred_voting)\n",
        "\n",
        "# Print the accuracy results\n",
        "print(f\"Accuracy of Stacking Classifier: {accuracy_stacking * 100:.2f}%\")\n",
        "print(f\"Accuracy of Voting Classifier: {accuracy_voting * 100:.2f}%\")\n",
        "\n",
        "# Compare accuracies\n",
        "if accuracy_stacking > accuracy_voting:\n",
        "    print(\"\\nStacking Classifier performs better than the Voting Classifier.\")\n",
        "else:\n",
        "    print(\"\\nVoting Classifier performs better than the Stacking Classifier.\")\n"
      ],
      "metadata": {
        "id": "OHBz4aJVLseq",
        "colab": {
          "base_uri": "https://localhost:8080/"
        },
        "outputId": "f0f68e9f-aac6-40e9-a1f6-592165cf7755"
      },
      "execution_count": 27,
      "outputs": [
        {
          "output_type": "stream",
          "name": "stdout",
          "text": [
            "Accuracy of Stacking Classifier: 100.00%\n",
            "Accuracy of Voting Classifier: 100.00%\n",
            "\n",
            "Voting Classifier performs better than the Stacking Classifier.\n"
          ]
        }
      ]
    },
    {
      "cell_type": "markdown",
      "source": [
        "Q17"
      ],
      "metadata": {
        "id": "ajI4pVv6KqHK"
      }
    },
    {
      "cell_type": "code",
      "source": [
        "# Import necessary libraries\n",
        "from sklearn.ensemble import RandomForestClassifier\n",
        "from sklearn.datasets import load_iris\n",
        "from sklearn.model_selection import train_test_split\n",
        "import pandas as pd\n",
        "\n",
        "# Load the Iris dataset\n",
        "data = load_iris()\n",
        "X = data.data\n",
        "y = data.target\n",
        "feature_names = data.feature_names\n",
        "\n",
        "# Split the dataset into training and testing sets\n",
        "X_train, X_test, y_train, y_test = train_test_split(X, y, test_size=0.3, random_state=42)\n",
        "\n",
        "# Initialize and train the Random Forest Classifier\n",
        "rf_model = RandomForestClassifier(n_estimators=100, random_state=42)\n",
        "rf_model.fit(X_train, y_train)\n",
        "\n",
        "# Get the feature importance scores\n",
        "feature_importances = rf_model.feature_importances_\n",
        "\n",
        "# Create a DataFrame to display the feature names and their importance\n",
        "importance_df = pd.DataFrame({\n",
        "    'Feature': feature_names,\n",
        "    'Importance': feature_importances\n",
        "})\n",
        "\n",
        "# Sort the DataFrame by importance in descending order\n",
        "importance_df = importance_df.sort_values(by='Importance', ascending=False)\n",
        "\n",
        "# Print the top 5 most important features\n",
        "print(\"Top 5 Most Important Features:\")\n",
        "print(importance_df.head(5))\n"
      ],
      "metadata": {
        "id": "vg2ZSHHVLtLr",
        "colab": {
          "base_uri": "https://localhost:8080/"
        },
        "outputId": "b547c15f-4823-4eb6-9a8d-9666105185a5"
      },
      "execution_count": 28,
      "outputs": [
        {
          "output_type": "stream",
          "name": "stdout",
          "text": [
            "Top 5 Most Important Features:\n",
            "             Feature  Importance\n",
            "3   petal width (cm)    0.433982\n",
            "2  petal length (cm)    0.417308\n",
            "0  sepal length (cm)    0.104105\n",
            "1   sepal width (cm)    0.044605\n"
          ]
        }
      ]
    },
    {
      "cell_type": "markdown",
      "source": [
        "Q18"
      ],
      "metadata": {
        "id": "4mBzg7d-KqET"
      }
    },
    {
      "cell_type": "code",
      "source": [
        "import numpy as np\n",
        "from sklearn.ensemble import BaggingClassifier\n",
        "from sklearn.tree import DecisionTreeClassifier\n",
        "from sklearn.datasets import make_classification\n",
        "from sklearn.model_selection import cross_validate\n",
        "from sklearn.metrics import make_scorer, precision_score, recall_score, f1_score\n",
        "\n",
        "# Set random seed for reproducibility\n",
        "np.random.seed(42)\n",
        "\n",
        "# Generate synthetic classification dataset\n",
        "X, y = make_classification(n_samples=1000, n_features=20, n_classes=2, random_state=42)\n",
        "\n",
        "# Initialize Bagging Classifier with DecisionTreeClassifier as base estimator\n",
        "bagging = BaggingClassifier(\n",
        "    estimator=DecisionTreeClassifier(),\n",
        "    n_estimators=50,  # Number of base estimators\n",
        "    max_samples=0.8,  # Fraction of samples to draw\n",
        "    bootstrap=True,\n",
        "    random_state=42\n",
        ")\n",
        "\n",
        "# Define scoring metrics\n",
        "scoring = {\n",
        "    'precision': make_scorer(precision_score, average='weighted'),\n",
        "    'recall': make_scorer(recall_score, average='weighted'),\n",
        "    'f1': make_scorer(f1_score, average='weighted')\n",
        "}\n",
        "\n",
        "# Perform 5-fold cross-validation\n",
        "cv_results = cross_validate(bagging, X, y, cv=5, scoring=scoring, return_train_score=False)\n",
        "\n",
        "# Extract and print mean and standard deviation of scores\n",
        "precision_mean = np.mean(cv_results['test_precision'])\n",
        "precision_std = np.std(cv_results['test_precision'])\n",
        "recall_mean = np.mean(cv_results['test_recall'])\n",
        "recall_std = np.std(cv_results['test_recall'])\n",
        "f1_mean = np.mean(cv_results['test_f1'])\n",
        "f1_std = np.std(cv_results['test_f1'])\n",
        "\n",
        "print(\"5-Fold Cross-Validation Results for Bagging Classifier:\")\n",
        "print(f\"Precision: Mean = {precision_mean:.4f}, Std = {precision_std:.4f}\")\n",
        "print(f\"Recall: Mean = {recall_mean:.4f}, Std = {recall_std:.4f}\")\n",
        "print(f\"F1-Score: Mean = {f1_mean:.4f}, Std = {f1_std:.4f}\")"
      ],
      "metadata": {
        "colab": {
          "base_uri": "https://localhost:8080/"
        },
        "id": "OTmAuu7ElSZB",
        "outputId": "7595e819-ea08-4625-a5d2-06b9e8541f81"
      },
      "execution_count": 40,
      "outputs": [
        {
          "output_type": "stream",
          "name": "stdout",
          "text": [
            "5-Fold Cross-Validation Results for Bagging Classifier:\n",
            "Precision: Mean = 0.9090, Std = 0.0237\n",
            "Recall: Mean = 0.9070, Std = 0.0244\n",
            "F1-Score: Mean = 0.9069, Std = 0.0245\n"
          ]
        }
      ]
    },
    {
      "cell_type": "markdown",
      "source": [
        "Q19"
      ],
      "metadata": {
        "id": "AmNQCol1KqBZ"
      }
    },
    {
      "cell_type": "code",
      "source": [
        "# Import necessary libraries\n",
        "from sklearn.ensemble import RandomForestClassifier\n",
        "from sklearn.datasets import load_iris\n",
        "from sklearn.model_selection import train_test_split\n",
        "from sklearn.metrics import accuracy_score\n",
        "import matplotlib.pyplot as plt\n",
        "\n",
        "# Load the Iris dataset\n",
        "data = load_iris()\n",
        "X = data.data\n",
        "y = data.target\n",
        "\n",
        "# Split the dataset into training and testing sets\n",
        "X_train, X_test, y_train, y_test = train_test_split(X, y, test_size=0.3, random_state=42)\n",
        "\n",
        "# List of different max_depth values to try\n",
        "max_depth_values = range(1, 21)  # Trying depths from 1 to 20\n",
        "\n",
        "# List to store accuracy scores for each max_depth value\n",
        "accuracy_scores = []\n",
        "\n",
        "# Train Random Forest models with different max_depth values\n",
        "for depth in max_depth_values:\n",
        "    rf_model = RandomForestClassifier(n_estimators=100, max_depth=depth, random_state=42)\n",
        "    rf_model.fit(X_train, y_train)\n",
        "    y_pred = rf_model.predict(X_test)\n",
        "    accuracy = accuracy_score(y_test, y_pred)\n",
        "    accuracy_scores.append(accuracy)\n",
        "\n",
        "# Plot the accuracy as a function of max_depth\n",
        "plt.figure(figsize=(10, 6))\n",
        "plt.plot(max_depth_values, accuracy_scores, marker='o', color='b', linestyle='-', linewidth=2, markersize=6)\n",
        "plt.title('Effect of max_depth on Random Forest Accuracy')\n",
        "plt.xlabel('max_depth')\n",
        "plt.ylabel('Accuracy')\n",
        "plt.grid(True)\n",
        "plt.xticks(range(1, 21))\n",
        "plt.show()\n"
      ],
      "metadata": {
        "id": "E_GlcTvCLt4C",
        "colab": {
          "base_uri": "https://localhost:8080/",
          "height": 564
        },
        "outputId": "b617af18-7c02-4d73-a2ee-c2dc87f39da2"
      },
      "execution_count": 30,
      "outputs": [
        {
          "output_type": "display_data",
          "data": {
            "text/plain": [
              "<Figure size 1000x600 with 1 Axes>"
            ],
            "image/png": "[encoded data removed]"
          },
          "metadata": {}
        }
      ]
    },
    {
      "cell_type": "markdown",
      "source": [
        "Q20"
      ],
      "metadata": {
        "id": "tNJAoZEGKp-j"
      }
    },
    {
      "cell_type": "code",
      "source": [
        "import numpy as np\n",
        "from sklearn.ensemble import BaggingRegressor\n",
        "from sklearn.tree import DecisionTreeRegressor\n",
        "from sklearn.neighbors import KNeighborsRegressor\n",
        "from sklearn.datasets import make_regression\n",
        "from sklearn.model_selection import cross_validate\n",
        "from sklearn.metrics import make_scorer, mean_squared_error, r2_score\n",
        "\n",
        "# Set random seed for reproducibility\n",
        "np.random.seed(42)\n",
        "\n",
        "# Generate synthetic regression dataset\n",
        "X, y = make_regression(n_samples=1000, n_features=10, noise=0.1, random_state=42)\n",
        "\n",
        "# Define base estimators\n",
        "base_estimators = {\n",
        "    'DecisionTree': DecisionTreeRegressor(random_state=42),\n",
        "    'KNeighbors': KNeighborsRegressor(n_neighbors=5)\n",
        "}\n",
        "\n",
        "# Define scoring metrics\n",
        "scoring = {\n",
        "    'mse': make_scorer(mean_squared_error, greater_is_better=False),\n",
        "    'r2': make_scorer(r2_score)\n",
        "}\n",
        "\n",
        "# Train and evaluate Bagging Regressor for each base estimator\n",
        "results = {}\n",
        "for name, estimator in base_estimators.items():\n",
        "    # Initialize Bagging Regressor\n",
        "    bagging = BaggingRegressor(\n",
        "        estimator=estimator,\n",
        "        n_estimators=50,  # Number of base estimators\n",
        "        max_samples=0.8,  # Fraction of samples to draw\n",
        "        bootstrap=True,\n",
        "        random_state=42\n",
        "    )\n",
        "\n",
        "    # Perform 5-fold cross-validation\n",
        "    cv_results = cross_validate(bagging, X, y, cv=5, scoring=scoring, return_train_score=False)\n",
        "\n",
        "    # Store mean and std of scores\n",
        "    results[name] = {\n",
        "        'mse_mean': -np.mean(cv_results['test_mse']),  # Negate because greater_is_better=False\n",
        "        'mse_std': np.std(cv_results['test_mse']),\n",
        "        'r2_mean': np.mean(cv_results['test_r2']),\n",
        "        'r2_std': np.std(cv_results['test_r2'])\n",
        "    }\n",
        "\n",
        "# Print results\n",
        "print(\"Bagging Regressor Performance Comparison:\")\n",
        "for name, metrics in results.items():\n",
        "    print(f\"\\nBase Estimator: {name}\")\n",
        "    print(f\"MSE: Mean = {metrics['mse_mean']:.4f}, Std = {metrics['mse_std']:.4f}\")\n",
        "    print(f\"R²: Mean = {metrics['r2_mean']:.4f}, Std = {metrics['r2_std']:.4f}\")"
      ],
      "metadata": {
        "colab": {
          "base_uri": "https://localhost:8080/"
        },
        "id": "GGW4L2zXlF5x",
        "outputId": "c13f2db5-27fb-4a2b-acec-b329365e37d2"
      },
      "execution_count": 39,
      "outputs": [
        {
          "output_type": "stream",
          "name": "stdout",
          "text": [
            "Bagging Regressor Performance Comparison:\n",
            "\n",
            "Base Estimator: DecisionTree\n",
            "MSE: Mean = 2778.4718, Std = 378.0140\n",
            "R²: Mean = 0.8404, Std = 0.0116\n",
            "\n",
            "Base Estimator: KNeighbors\n",
            "MSE: Mean = 3708.2135, Std = 483.7322\n",
            "R²: Mean = 0.7874, Std = 0.0066\n"
          ]
        }
      ]
    },
    {
      "cell_type": "markdown",
      "source": [
        "Q21"
      ],
      "metadata": {
        "id": "0N-6r5pSKp7i"
      }
    },
    {
      "cell_type": "code",
      "source": [
        "# Import necessary libraries\n",
        "from sklearn.ensemble import RandomForestClassifier\n",
        "from sklearn.datasets import load_iris\n",
        "from sklearn.model_selection import train_test_split\n",
        "from sklearn.metrics import roc_auc_score\n",
        "from sklearn.preprocessing import label_binarize\n",
        "\n",
        "# Load the Iris dataset\n",
        "data = load_iris()\n",
        "X = data.data\n",
        "y = data.target\n",
        "\n",
        "# Split the dataset into training and testing sets\n",
        "X_train, X_test, y_train, y_test = train_test_split(X, y, test_size=0.3, random_state=42)\n",
        "\n",
        "# Initialize the Random Forest Classifier\n",
        "rf_model = RandomForestClassifier(n_estimators=100, random_state=42)\n",
        "\n",
        "# Train the model\n",
        "rf_model.fit(X_train, y_train)\n",
        "\n",
        "# Get predicted probabilities for each class\n",
        "y_pred_prob = rf_model.predict_proba(X_test)\n",
        "\n",
        "# Binarize the output labels for multi-class ROC-AUC (One-vs-Rest approach)\n",
        "y_test_bin = label_binarize(y_test, classes=[0, 1, 2])\n",
        "\n",
        "# Calculate the ROC-AUC score\n",
        "roc_auc = roc_auc_score(y_test_bin, y_pred_prob, average='macro', multi_class='ovr')\n",
        "\n",
        "# Print the ROC-AUC score\n",
        "print(f\"ROC-AUC Score: {roc_auc:.4f}\")\n"
      ],
      "metadata": {
        "id": "NiQcJxuoLu3q",
        "colab": {
          "base_uri": "https://localhost:8080/"
        },
        "outputId": "77b38177-903d-4b37-9628-4a1b709e1cf4"
      },
      "execution_count": 32,
      "outputs": [
        {
          "output_type": "stream",
          "name": "stdout",
          "text": [
            "ROC-AUC Score: 1.0000\n"
          ]
        }
      ]
    },
    {
      "cell_type": "markdown",
      "source": [
        "Q22"
      ],
      "metadata": {
        "id": "B00AwkMzKp4z"
      }
    },
    {
      "cell_type": "code",
      "source": [
        "import numpy as np\n",
        "from sklearn.ensemble import BaggingClassifier\n",
        "from sklearn.tree import DecisionTreeClassifier\n",
        "from sklearn.datasets import make_classification\n",
        "from sklearn.model_selection import cross_validate\n",
        "from sklearn.metrics import make_scorer, accuracy_score, f1_score\n",
        "\n",
        "# Set random seed for reproducibility\n",
        "np.random.seed(42)\n",
        "\n",
        "# Generate synthetic classification dataset\n",
        "X, y = make_classification(n_samples=1000, n_features=20, n_classes=2, random_state=42)\n",
        "\n",
        "# Initialize Bagging Classifier with DecisionTreeClassifier as base estimator\n",
        "bagging = BaggingClassifier(\n",
        "    estimator=DecisionTreeClassifier(),\n",
        "    n_estimators=50,  # Number of base estimators\n",
        "    max_samples=0.8,  # Fraction of samples to draw\n",
        "    bootstrap=True,\n",
        "    random_state=42\n",
        ")\n",
        "\n",
        "# Define scoring metrics\n",
        "scoring = {\n",
        "    'accuracy': make_scorer(accuracy_score),\n",
        "    'f1': make_scorer(f1_score, average='weighted')\n",
        "}\n",
        "\n",
        "# Perform 5-fold cross-validation\n",
        "cv_results = cross_validate(bagging, X, y, cv=5, scoring=scoring, return_train_score=False)\n",
        "\n",
        "# Extract and print mean and standard deviation of scores\n",
        "accuracy_mean = np.mean(cv_results['test_accuracy'])\n",
        "accuracy_std = np.std(cv_results['test_accuracy'])\n",
        "f1_mean = np.mean(cv_results['test_f1'])\n",
        "f1_std = np.std(cv_results['test_f1'])\n",
        "\n",
        "print(f\"5-Fold Cross-Validation Results:\")\n",
        "print(f\"Accuracy: Mean = {accuracy_mean:.4f}, Std = {accuracy_std:.4f}\")\n",
        "print(f\"F1-Score: Mean = {f1_mean:.4f}, Std = {f1_std:.4f}\")"
      ],
      "metadata": {
        "colab": {
          "base_uri": "https://localhost:8080/"
        },
        "id": "Q7DDb7BZku8B",
        "outputId": "4f78ccd2-c063-4041-cfcb-1b5dc2b6618b"
      },
      "execution_count": 38,
      "outputs": [
        {
          "output_type": "stream",
          "name": "stdout",
          "text": [
            "5-Fold Cross-Validation Results:\n",
            "Accuracy: Mean = 0.9070, Std = 0.0244\n",
            "F1-Score: Mean = 0.9069, Std = 0.0245\n"
          ]
        }
      ]
    },
    {
      "cell_type": "markdown",
      "source": [
        "Q23"
      ],
      "metadata": {
        "id": "g4SXhs6FKp1r"
      }
    },
    {
      "cell_type": "code",
      "source": [
        "# Import necessary libraries\n",
        "from sklearn.ensemble import RandomForestClassifier\n",
        "from sklearn.datasets import load_iris\n",
        "from sklearn.model_selection import train_test_split\n",
        "from sklearn.metrics import precision_recall_curve, average_precision_score\n",
        "import matplotlib.pyplot as plt\n",
        "\n",
        "# Load the Iris dataset\n",
        "data = load_iris()\n",
        "X = data.data\n",
        "y = data.target\n",
        "\n",
        "# Convert the problem into a binary classification for Precision-Recall curve (class 0 vs rest)\n",
        "y_binary = (y == 0).astype(int)  # 1 if class 0, else 0\n",
        "\n",
        "# Split the dataset into training and testing sets\n",
        "X_train, X_test, y_train, y_test = train_test_split(X, y_binary, test_size=0.3, random_state=42)\n",
        "\n",
        "# Initialize the Random Forest Classifier\n",
        "rf_model = RandomForestClassifier(n_estimators=100, random_state=42)\n",
        "\n",
        "# Train the model\n",
        "rf_model.fit(X_train, y_train)\n",
        "\n",
        "# Get predicted probabilities for the positive class\n",
        "y_pred_prob = rf_model.predict_proba(X_test)[:, 1]\n",
        "\n",
        "# Calculate Precision and Recall\n",
        "precision, recall, thresholds = precision_recall_curve(y_test, y_pred_prob)\n",
        "\n",
        "# Calculate Average Precision Score\n",
        "avg_precision = average_precision_score(y_test, y_pred_prob)\n",
        "print(f\"Average Precision Score: {avg_precision:.4f}\")\n",
        "\n",
        "# Plot the Precision-Recall curve\n",
        "plt.figure(figsize=(8, 6))\n",
        "plt.plot(recall, precision, marker='.', color='b', label=f'Random Forest (AP={avg_precision:.4f})')\n",
        "plt.xlabel('Recall')\n",
        "plt.ylabel('Precision')\n",
        "plt.title('Precision-Recall Curve')\n",
        "plt.legend(loc='best')\n",
        "plt.grid(True)\n",
        "plt.show()\n"
      ],
      "metadata": {
        "id": "4cbU76jPLv7i",
        "colab": {
          "base_uri": "https://localhost:8080/",
          "height": 581
        },
        "outputId": "b07997c1-55a2-4a09-e971-b41fb6651669"
      },
      "execution_count": 34,
      "outputs": [
        {
          "output_type": "stream",
          "name": "stdout",
          "text": [
            "Average Precision Score: 1.0000\n"
          ]
        },
        {
          "output_type": "display_data",
          "data": {
            "text/plain": [
              "<Figure size 800x600 with 1 Axes>"
            ],
            "image/png": "[encoded data removed]"
          },
          "metadata": {}
        }
      ]
    },
    {
      "cell_type": "markdown",
      "source": [
        "Q24"
      ],
      "metadata": {
        "id": "8ASm5tfEKpyq"
      }
    },
    {
      "cell_type": "code",
      "source": [
        "# Import necessary libraries\n",
        "from sklearn.ensemble import StackingClassifier, RandomForestClassifier\n",
        "from sklearn.linear_model import LogisticRegression\n",
        "from sklearn.datasets import load_iris\n",
        "from sklearn.model_selection import train_test_split\n",
        "from sklearn.metrics import accuracy_score\n",
        "from sklearn.model_selection import cross_val_score\n",
        "\n",
        "# Load the Iris dataset\n",
        "data = load_iris()\n",
        "X = data.data\n",
        "y = data.target\n",
        "\n",
        "# Split the dataset into training and testing sets\n",
        "X_train, X_test, y_train, y_test = train_test_split(X, y, test_size=0.3, random_state=42)\n",
        "\n",
        "# Initialize the base models\n",
        "base_learners = [\n",
        "    ('rf', RandomForestClassifier(n_estimators=100, random_state=42)),\n",
        "    ('lr', LogisticRegression(max_iter=200, random_state=42))\n",
        "]\n",
        "\n",
        "# Initialize the Stacking Classifier with Logistic Regression as the final estimator\n",
        "stacking_model = StackingClassifier(estimators=base_learners, final_estimator=LogisticRegression())\n",
        "\n",
        "# Train the Stacking Classifier\n",
        "stacking_model.fit(X_train, y_train)\n",
        "\n",
        "# Make predictions on the test set\n",
        "y_pred_stacking = stacking_model.predict(X_test)\n",
        "\n",
        "# Calculate the accuracy of the Stacking Classifier\n",
        "accuracy_stacking = accuracy_score(y_test, y_pred_stacking)\n",
        "\n",
        "# Train and evaluate Random Forest Classifier\n",
        "rf_model = RandomForestClassifier(n_estimators=100, random_state=42)\n",
        "rf_model.fit(X_train, y_train)\n",
        "y_pred_rf = rf_model.predict(X_test)\n",
        "accuracy_rf = accuracy_score(y_test, y_pred_rf)\n",
        "\n",
        "# Train and evaluate Logistic Regression\n",
        "lr_model = LogisticRegression(max_iter=200, random_state=42)\n",
        "lr_model.fit(X_train, y_train)\n",
        "y_pred_lr = lr_model.predict(X_test)\n",
        "accuracy_lr = accuracy_score(y_test, y_pred_lr)\n",
        "\n",
        "# Print the accuracy of each model\n",
        "print(f\"Accuracy of Stacking Classifier: {accuracy_stacking:.4f}\")\n",
        "print(f\"Accuracy of Random Forest Classifier: {accuracy_rf:.4f}\")\n",
        "print(f\"Accuracy of Logistic Regression: {accuracy_lr:.4f}\")\n"
      ],
      "metadata": {
        "id": "R3erDHryLwii",
        "colab": {
          "base_uri": "https://localhost:8080/"
        },
        "outputId": "a576e015-da2b-4a36-cd11-b85d11d917a3"
      },
      "execution_count": 35,
      "outputs": [
        {
          "output_type": "stream",
          "name": "stdout",
          "text": [
            "Accuracy of Stacking Classifier: 1.0000\n",
            "Accuracy of Random Forest Classifier: 1.0000\n",
            "Accuracy of Logistic Regression: 1.0000\n"
          ]
        }
      ]
    },
    {
      "cell_type": "markdown",
      "source": [
        "Q25"
      ],
      "metadata": {
        "id": "jvcgC0z-Kpvj"
      }
    },
    {
      "cell_type": "code",
      "source": [
        "import numpy as np\n",
        "from sklearn.ensemble import BaggingRegressor\n",
        "from sklearn.tree import DecisionTreeRegressor\n",
        "from sklearn.datasets import make_regression\n",
        "from sklearn.model_selection import train_test_split\n",
        "from sklearn.metrics import mean_squared_error\n",
        "import matplotlib.pyplot as plt\n",
        "\n",
        "# Set random seed for reproducibility\n",
        "np.random.seed(42)\n",
        "\n",
        "# Generate synthetic regression dataset\n",
        "X, y = make_regression(n_samples=1000, n_features=10, noise=0.1, random_state=42)\n",
        "\n",
        "# Split into train and test sets\n",
        "X_train, X_test, y_train, y_test = train_test_split(X, y, test_size=0.2, random_state=42)\n",
        "\n",
        "# Define different levels of max_samples\n",
        "max_samples_values = [0.1, 0.3, 0.5, 0.7, 1.0]\n",
        "mse_scores = []\n",
        "\n",
        "# Train and evaluate Bagging Regressor for each max_samples value\n",
        "for max_samples in max_samples_values:\n",
        "    # Initialize Bagging Regressor with DecisionTreeRegressor as base estimator\n",
        "    bagging = BaggingRegressor(\n",
        "        estimator=DecisionTreeRegressor(),\n",
        "        n_estimators=50,  # Number of base estimators\n",
        "        max_samples=max_samples,\n",
        "        bootstrap=True,\n",
        "        random_state=42\n",
        "    )\n",
        "\n",
        "    # Train the model\n",
        "    bagging.fit(X_train, y_train)\n",
        "\n",
        "    # Predict on test set\n",
        "    y_pred = bagging.predict(X_test)\n",
        "\n",
        "    # Calculate mean squared error\n",
        "    mse = mean_squared_error(y_test, y_pred)\n",
        "    mse_scores.append(mse)\n",
        "    print(f\"max_samples={max_samples:.1f}, MSE={mse:.4f}\")\n",
        "\n",
        "# Plot the results\n",
        "plt.figure(figsize=(8, 6))\n",
        "plt.plot(max_samples_values, mse_scores, marker='o', linestyle='-', color='#1f77b4')\n",
        "plt.xlabel('max_samples')\n",
        "plt.ylabel('Mean Squared Error')\n",
        "plt.title('Bagging Regressor Performance vs. max_samples')\n",
        "plt.grid(True)\n",
        "plt.show()"
      ],
      "metadata": {
        "colab": {
          "base_uri": "https://localhost:8080/",
          "height": 651
        },
        "id": "q-GnPrHvkcLa",
        "outputId": "4102c2e5-ca28-4878-d622-f5fd06231797"
      },
      "execution_count": 37,
      "outputs": [
        {
          "output_type": "stream",
          "name": "stdout",
          "text": [
            "max_samples=0.1, MSE=3983.0510\n",
            "max_samples=0.3, MSE=3020.3054\n",
            "max_samples=0.5, MSE=2639.3488\n",
            "max_samples=0.7, MSE=2671.7146\n",
            "max_samples=1.0, MSE=2664.0809\n"
          ]
        },
        {
          "output_type": "display_data",
          "data": {
            "text/plain": [
              "<Figure size 800x600 with 1 Axes>"
            ],
            "image/png": "[encoded data removed]"
          },
          "metadata": {}
        }
      ]
    }
  ]
}